{
 "cells": [
  {
   "cell_type": "markdown",
   "metadata": {},
   "source": [
    "# Atomic swaps"
   ]
  },
  {
   "cell_type": "markdown",
   "metadata": {},
   "source": [
    "## Algorithm"
   ]
  },
  {
   "cell_type": "markdown",
   "metadata": {},
   "source": [
    "0. Generate addresses in each blockchain\n",
    "1. Generate random number x\n",
    "2. Calculate hash of x - H(x)\n",
    "3. A makes transaction $Tx_1$ and $Tx_2$\n",
    "    * $Tx_1$ has the following structure\n",
    "        * Correct input from previous blocks\n",
    "        * Condition output two cases\n",
    "            * Pay w BTC to B's public key in blockchain 1 if show preimage of H(x) (it's x)\n",
    "            * If Output signed by A and B private keys\n",
    "    * $Tx_2$ with output Pay w BTC from TX1 to A, locked 48 hours in the future, signed by A\n",
    "4. A send to B $Tx_2$ and B signs it with its private key\n",
    "    * This transaction needs to return money back to A if B refuses to do something with $Tx_1$\n",
    "5. B makes transaction $Tx_3$ and $Tx_4$ in second blockchain with the same logic as  $Tx_1$ and $Tx_2$ \n",
    "    * $Tx_3$ has the following structure\n",
    "        * Correct input from previous blocks\n",
    "        * Condition output two cases\n",
    "            * Pay k LTC to A's public key in blockchain 2 if show preimage of H(x) (it's x)\n",
    "            * If Output signed by A and B private keys\n",
    "    * $Tx_4$ with output Pay k LTC from TX3 to B, locked 24 hours in the future, signed by B (to return money back)\n",
    "6. B sends to A $Tx_4$ and A signs it with its private key\n",
    "7. A submits $Tx_1$\n",
    "8. B submits $Tx_3$\n",
    "9. A spends $Tx_3$ by providing x (the first case of output) now B knows x\n",
    "10. B spends $Tx_1$ by providing x (the first case of output)\n",
    "\n",
    "Emergency case\n",
    "* A or B refuses to spend $Tx_1$ or $Tx_3$\n",
    "    * We have transaction $Tx_2$ and $Tx_4$ to return money\n",
    "* After revealing the x A has 24 hours and B 48 to spend output, ot the money will be taken back by $Tx_2$ or $Tx_4$"
   ]
  },
  {
   "cell_type": "markdown",
   "metadata": {},
   "source": [
    "## Solution"
   ]
  },
  {
   "cell_type": "markdown",
   "metadata": {},
   "source": [
    "# Attention here will be used only testnet addresses !!!"
   ]
  },
  {
   "cell_type": "markdown",
   "metadata": {},
   "source": [
    "### Generation of addresses in the bitcoin blockchain"
   ]
  },
  {
   "cell_type": "markdown",
   "metadata": {},
   "source": [
    "#### Generation with bit library"
   ]
  },
  {
   "cell_type": "code",
   "execution_count": 1,
   "metadata": {},
   "outputs": [],
   "source": [
    "import base58\n",
    "import hashlib\n",
    "import random \n",
    "\n",
    "from bit import PrivateKeyTestnet as BKey\n",
    "\n",
    "from cashaddress import convert\n"
   ]
  },
  {
   "cell_type": "code",
   "execution_count": 2,
   "metadata": {},
   "outputs": [],
   "source": [
    "a_key_btc = BKey('cPW2VpCmvHtrdoEnAYnji1vCSuA3x3bymWxQ6DZYoExLnF2GGqMh')\n",
    "b_key_btc = BKey('cSEgbEcba2yFJ5TdSbrjFuy2MFwnc89dsAZNKuV3jRE6rHqUPWjF')\n",
    "a_key_btc_c = BKey('cNFJq2ovKSrvFv5sE2WRZHtXZRArDUHXPwMQky5JzspHL2vwH8Vc')\n",
    "b_key_btc_c = BKey('cVDtE9HBqtPPjV2z5dL1ouNc3YtqeBzVNSVsbr3u3rv2d696XMSQ')\n"
   ]
  },
  {
   "cell_type": "code",
   "execution_count": 3,
   "metadata": {},
   "outputs": [
    {
     "data": {
      "text/plain": [
       "'394510c94f8b686640c667acc2eee88413e013a7f748764973ddf28c6ce03c1d'"
      ]
     },
     "execution_count": 3,
     "metadata": {},
     "output_type": "execute_result"
    }
   ],
   "source": [
    "a_key_btc.to_hex()"
   ]
  },
  {
   "cell_type": "code",
   "execution_count": 4,
   "metadata": {},
   "outputs": [],
   "source": [
    "def print_public_private_key(key):\n",
    "    print('Private key wif:', key.to_wif())\n",
    "    print('Private key:', key.to_hex())\n",
    "    print('Public key:', key.public_key.hex())\n",
    "\n",
    "\n",
    "def print_bitcoin_adress_from_key(key):\n",
    "    print_public_private_key(key)\n",
    "    print('Bitcoin tesnet address:', key.address)\n",
    "\n",
    "\n",
    "def print_bitcoin_cash_adress_from_key(key):\n",
    "    print_public_private_key(key)\n",
    "    print('Bitcoin cash tesnet address:', convert.to_cash_address(key.address).replace('bchtest:',''))"
   ]
  },
  {
   "cell_type": "code",
   "execution_count": 5,
   "metadata": {},
   "outputs": [
    {
     "name": "stdout",
     "output_type": "stream",
     "text": [
      "Bitcoin adresses\n",
      "Private key wif: cPW2VpCmvHtrdoEnAYnji1vCSuA3x3bymWxQ6DZYoExLnF2GGqMh\n",
      "Private key: 394510c94f8b686640c667acc2eee88413e013a7f748764973ddf28c6ce03c1d\n",
      "Public key: 0315eb04cfe026f2ed94b541d7fcd27199a0c3975f3c615a5853342f56fc08a42c\n",
      "Private key wif: cSEgbEcba2yFJ5TdSbrjFuy2MFwnc89dsAZNKuV3jRE6rHqUPWjF\n",
      "Private key: 8ae38b646024bbf368e49d80a33b0c032502e4908499614124b07cc8cd27c352\n",
      "Public key: 039b2e1dbda4516233cd707b9bd6e825c08a86bcbefb0c9f02bcae14325719ff18\n"
     ]
    }
   ],
   "source": [
    "print('Bitcoin adresses')\n",
    "# Bitcoin A key\n",
    "# a_key_btc = BKey() TODO return\n",
    "print_public_private_key(a_key_btc)\n",
    "# Bitcoin B key\n",
    "# b_key_btc = BKey() TODO return\n",
    "print_public_private_key(b_key_btc)"
   ]
  },
  {
   "cell_type": "markdown",
   "metadata": {},
   "source": [
    "Bitcoin adresses\n",
    "\n",
    "A Private key wif: cPW2VpCmvHtrdoEnAYnji1vCSuA3x3bymWxQ6DZYoExLnF2GGqMh\n",
    "\n",
    "A private key: 394510c94f8b686640c667acc2eee88413e013a7f748764973ddf28c6ce03c1d\n",
    "\n",
    "A Public key: 0315eb04cfe026f2ed94b541d7fcd27199a0c3975f3c615a5853342f56fc08a42c\n",
    "\n",
    "A Public address: mvVsCboEwHDtdbr3VYc4mE4S76nWrgu3H6\n",
    "\n",
    "B Private key: cSEgbEcba2yFJ5TdSbrjFuy2MFwnc89dsAZNKuV3jRE6rHqUPWjF\n",
    "\n",
    "B private key: 8ae38b646024bbf368e49d80a33b0c032502e4908499614124b07cc8cd27c352\n",
    "\n",
    "B Public key: 039b2e1dbda4516233cd707b9bd6e825c08a86bcbefb0c9f02bcae14325719ff18\n",
    "\n",
    "B Public address: mvSHAyjrb76oyGXGrtq6XehYmSbhVYFyZR\n"
   ]
  },
  {
   "cell_type": "code",
   "execution_count": 6,
   "metadata": {},
   "outputs": [
    {
     "name": "stdout",
     "output_type": "stream",
     "text": [
      "Bitcoin cash adresses\n",
      "Private key wif: cNFJq2ovKSrvFv5sE2WRZHtXZRArDUHXPwMQky5JzspHL2vwH8Vc\n",
      "Private key: 13dc553936f915bf016b17bbf94ca651e898fbdd578e0ad800fb997eeed31214\n",
      "Public key: 02b9f03fddb4d61d335291b7a02f192e0efbf3d2ecc2a169c0663ef288ce4649d8\n",
      "Bitcoin cash tesnet address: qztww4ved7f9mw323gzu5pcaqggwd7hryuc0806ad3\n",
      "Private key wif: cVDtE9HBqtPPjV2z5dL1ouNc3YtqeBzVNSVsbr3u3rv2d696XMSQ\n",
      "Private key: e3fd64073cc6689f725d2a42a547c35df2e69a519ec4fc54985a604ba5173f35\n",
      "Public key: 02fa4a568ecb75791fc641f340e01b271517eceba48afe21809d7051af3df532a0\n",
      "Bitcoin cash tesnet address: qzgn0s3d8f4sr22cku7pqmaaq4qc9d2srv92pqjfy0\n"
     ]
    }
   ],
   "source": [
    "print('Bitcoin cash adresses')\n",
    "# Bitcoin cash A key\n",
    "# a_key_ltc = BKey()\n",
    "print_bitcoin_cash_adress_from_key(a_key_btc_c)\n",
    "# Bitcoin cash B key\n",
    "# b_key_ltc = BKey()\n",
    "print_bitcoin_cash_adress_from_key(b_key_btc_c)"
   ]
  },
  {
   "cell_type": "markdown",
   "metadata": {},
   "source": [
    "Bitcoin cash adresses\n",
    "\n",
    "A Private key wif: cQH4rK5QFMGmzrGfmyK2JKQjVYNut8yzcmXhS9gtQN9uW2icfhAH\n",
    "\n",
    "A Private key: 13dc553936f915bf016b17bbf94ca651e898fbdd578e0ad800fb997eeed31214\n",
    "\n",
    "A Public key: 035a0423eb31656c960079e22e82be15f045473db7ec954c407436b5237040986e\n",
    "\n",
    "A Bitcoin cash tesnet address: qztww4ved7f9mw323gzu5pcaqggwd7hryuc0806ad3\n",
    "\n",
    "B Private key wif : cT532DUXtTExpumabA8ZU7NQQ992Y45ncqv8hXTD23zNhDPSrexf\n",
    "\n",
    "B Private key: e3fd64073cc6689f725d2a42a547c35df2e69a519ec4fc54985a604ba5173f35\n",
    "\n",
    "B Public key: 029a19a7c5b51743b3641adfbd88f5fe213548183ee997d1760ba1a0cd2d70fa32\n",
    "\n",
    "B Bitcoin cash tesnet address: qzgn0s3d8f4sr22cku7pqmaaq4qc9d2srv92pqjfy0"
   ]
  },
  {
   "cell_type": "markdown",
   "metadata": {},
   "source": [
    "#####  Get some money\n",
    "A address bitcoin TX ```e9813fd9c46bae13bedd5b5cedb4d62649b50589d49920f0cc5b951867ee3223```\n",
    "\n",
    "B address bitcoin TX ```ad297300090d9ef4dab87a9d356d923bac46d5fd31733da7b4fd39d3d8124272```\n",
    "\n",
    "A address bitcoin cash TX ```e2eb65dac003caf7b8e922f0afa8d501be2c96fb06f2656c069f2654ceb44ecf```\n",
    "\n",
    "B address bitcoin cash TX ```662c13380d01fdb38177a77958c76e483a197f399432946de7bca84b6ca37a14```"
   ]
  },
  {
   "cell_type": "markdown",
   "metadata": {},
   "source": [
    "#### Generation as was shown on seminars"
   ]
  },
  {
   "cell_type": "code",
   "execution_count": 7,
   "metadata": {},
   "outputs": [],
   "source": [
    "# TODO "
   ]
  },
  {
   "cell_type": "markdown",
   "metadata": {},
   "source": [
    "### Create transcation in bitcoin net"
   ]
  },
  {
   "cell_type": "markdown",
   "metadata": {},
   "source": [
    "### Chose random number x"
   ]
  },
  {
   "cell_type": "code",
   "execution_count": 8,
   "metadata": {},
   "outputs": [],
   "source": [
    "class BitcoinWallet(object):\n",
    "    '''Wallet object.'''\n",
    "\n",
    "    def __init__(self, private_key=None, public_key=None, public_address=None):\n",
    "        self.private_key = private_key\n",
    "        self.public_key = public_key\n",
    "        self.public_address = public_address\n",
    "    "
   ]
  },
  {
   "cell_type": "code",
   "execution_count": 9,
   "metadata": {},
   "outputs": [],
   "source": [
    "w1 = {\n",
    "    'btc': BitcoinWallet(\n",
    "        private_key='394510c94f8b686640c667acc2eee88413e013a7f748764973ddf28c6ce03c1d',\n",
    "        public_key='0315eb04cfe026f2ed94b541d7fcd27199a0c3975f3c615a5853342f56fc08a42c',\n",
    "        public_address='mvVsCboEwHDtdbr3VYc4mE4S76nWrgu3H6'\n",
    "    ),\n",
    "    'bcash': BitcoinWallet(\n",
    "        private_key='e3fd64073cc6689f725d2a42a547c35df2e69a519ec4fc54985a604ba5173f35',\n",
    "        public_key='035a0423eb31656c960079e22e82be15f045473db7ec954c407436b5237040986e',\n",
    "        public_address='qztww4ved7f9mw323gzu5pcaqggwd7hryuc0806ad3'\n",
    "    )\n",
    "}\n",
    "\n",
    "w2 = {\n",
    "    'btc': BitcoinWallet(\n",
    "        private_key='8ae38b646024bbf368e49d80a33b0c032502e4908499614124b07cc8cd27c352',\n",
    "        public_key='039b2e1dbda4516233cd707b9bd6e825c08a86bcbefb0c9f02bcae14325719ff18',\n",
    "        public_address='mvSHAyjrb76oyGXGrtq6XehYmSbhVYFyZR'\n",
    "    ),\n",
    "    'bcash': BitcoinWallet(\n",
    "        private_key='e3fd64073cc6689f725d2a42a547c35df2e69a519ec4fc54985a604ba5173f35',\n",
    "        public_key='029a19a7c5b51743b3641adfbd88f5fe213548183ee997d1760ba1a0cd2d70fa32',\n",
    "        public_address='qzgn0s3d8f4sr22cku7pqmaaq4qc9d2srv92pqjfy0'\n",
    "    )\n",
    "}"
   ]
  },
  {
   "cell_type": "code",
   "execution_count": 10,
   "metadata": {},
   "outputs": [],
   "source": [
    "import ecdsa\n",
    "import binascii\n",
    "import hashlib\n",
    "import base58\n",
    "\n",
    "import hashlib\n",
    "import secrets\n",
    "\n",
    "\n",
    "from datetime import datetime, timedelta, timezone\n"
   ]
  },
  {
   "cell_type": "code",
   "execution_count": 11,
   "metadata": {},
   "outputs": [],
   "source": [
    "def hash160(msg):\n",
    "    msg = bytes.fromhex(msg)\n",
    "    h = hashlib.new('ripemd160')\n",
    "    h.update(hashlib.sha256(msg).digest())\n",
    "    return h.digest()\n",
    "\n",
    "\n",
    "def bitcoin_satoshi_rev_hex(btc):\n",
    "    temp = float(btc) * (10**8)\n",
    "    temp_1 = hex(int(temp))[2:]\n",
    "    temp_2 = reverse_in_pair(str(temp_1).zfill(16))\n",
    "    return temp_2\n",
    "\n",
    "\n",
    "def reverse_in_pair(a):\n",
    "    i = 0\n",
    "    rev_a = []\n",
    "    while i != len(a):\n",
    "        temp_value = a[i] + a[i+1]\n",
    "        rev_a.append(temp_value)\n",
    "        i = i + 2\n",
    "    rev_a.reverse()\n",
    "    return ''.join(rev_a)\n",
    "\n",
    "\n",
    "def generate_secret_with_hash():\n",
    "    secret = secrets.token_bytes(32)\n",
    "    secret_hash = hashlib.new('ripemd160', secret).digest()\n",
    "    return secret.hex(), secret_hash.hex()\n",
    "\n",
    "\n",
    "def padding(b):\n",
    "    if int(len(b) % 2) == 0:\n",
    "        return b\n",
    "    else:\n",
    "        return '0' + b\n",
    "\n",
    "\n",
    "def variable_integer(a):\n",
    "    if type(a) == int:\n",
    "        temp = a\n",
    "    else:\n",
    "        temp = int(len(a)/2)\n",
    "\n",
    "    if temp <= int('0xfc', 16):\n",
    "        return padding(hex(temp)[2:])\n",
    "    elif temp > int('0xfc', 16) and temp <= int('0xffff', 16):\n",
    "        return 'fd' + reverse_in_pair(padding(hex(temp)[2:]))\n",
    "    elif temp > int('0xffff', 16) and temp <= int('0xffffffff', 16):\n",
    "        return 'fe' + v(padding(hex(temp)[2:]))\n",
    "    elif temp > int('0xffffffff', 16) and temp <= int('0xffffffffffffffff', 16):\n",
    "        return 'ff' + reverse_in_pair(padding(hex(temp)[2:]))\n",
    "\n",
    "\n",
    "def tx_outputs(receiver_address, btc):\n",
    "    first_char = receiver_address[0]\n",
    "    if first_char == 'm' or first_char == 'n':\n",
    "        # Common receiver\n",
    "        value_in_hex_NYB = bitcoin_satoshi_rev_hex(btc)\n",
    "        receiver_address = base58.b58decode(receiver_address).hex()[2:-8]\n",
    "        size_receiver = hex(int(len(receiver_address)/2))[2:]\n",
    "        locking_Script = '76' + 'a9' + size_receiver + receiver_address + '88' + 'ac'\n",
    "        script_len_2 = hex(int(len(locking_Script)/2))[2:]\n",
    "\n",
    "    elif first_char == '2':\n",
    "        # MultiSigntature receiver\n",
    "        value_in_hex_NYB = bitcoin_satoshi_rev_hex(btc)\n",
    "        receiver_address = base58.b58decode(receiver_address).hex()[2:-8]\n",
    "        locking_Script = 'a9' + \\\n",
    "            variable_integer(receiver_address) + receiver_address + '87'\n",
    "        script_len_2 = variable_integer(locking_Script)\n",
    "\n",
    "    else:\n",
    "        raise NotImplementedError(\n",
    "            f'Check your receiver_address: {receiver_address}')\n",
    "    return value_in_hex_NYB + script_len_2 + locking_Script\n",
    "\n",
    "\n",
    "def op_return(data):\n",
    "    value_return = '0'*16\n",
    "    text_from_bytes = binascii.b2a_hex(data.encode(\"utf-8\")).decode()\n",
    "    len_data = hex(int(len(text_from_bytes)/2))[2:]\n",
    "    partial_data = '6a' + padding(len_data) + text_from_bytes\n",
    "    return value_return + padding(hex(int(len(partial_data)/2))[2:]) + partial_data\n",
    "\n",
    "\n",
    "def pushdata(len_r, len_s):\n",
    "    if len_r == '20' and len_s == '20':\n",
    "        return str(47)\n",
    "    elif len_r == '20' or len_s == '21':\n",
    "        return str(48)\n",
    "    elif len_r == '21' or len_s == '20':\n",
    "        return str(48)\n",
    "    else:\n",
    "        return str(49)\n",
    "\n",
    "\n",
    "def pubkey_opcode(a):\n",
    "    return hex(int(int(len(a))/2))[2:]\n",
    "\n",
    "\n",
    "def int_to_hex(x) -> str:\n",
    "    return hex(x)[2:]\n",
    "\n",
    "\n",
    "def make_digital_signature(raw_tx, private_key):\n",
    "    unsigned = raw_tx\n",
    "\n",
    "    temp_bin = binascii.unhexlify(unsigned)\n",
    "    temp_hash = hashlib.sha256(temp_bin).digest()\n",
    "    tx_hash = hashlib.sha256(temp_hash).digest()\n",
    "\n",
    "    signingkey = ecdsa.SigningKey.from_string(\n",
    "        bytes.fromhex(private_key), curve=ecdsa.SECP256k1)\n",
    "    dig_sig = signingkey.sign_digest(\n",
    "        tx_hash, sigencode=ecdsa.util.sigencode_der_canonize)\n",
    "    dig_sig = str(binascii.hexlify(dig_sig), 'ascii')\n",
    "    return dig_sig"
   ]
  },
  {
   "cell_type": "code",
   "execution_count": 12,
   "metadata": {},
   "outputs": [],
   "source": [
    "class BaseTransaction(object):\n",
    "    version_number = '01000000'\n",
    "    number_inputs = '01'\n",
    "    sequence = 'ffffffff'\n",
    "    locktime = '00000000'\n",
    "    sig_hash_code = '01000000'"
   ]
  },
  {
   "cell_type": "code",
   "execution_count": 13,
   "metadata": {},
   "outputs": [],
   "source": [
    "OP_0 = '00'\n",
    "OP_FALSE = OP_0\n",
    "OP_1 = '51'\n",
    "OP_TRUE = OP_1\n",
    "\n",
    "OP_IF = '63'\n",
    "OP_ELSE = '67'\n",
    "OP_ENDIF = '68'\n",
    "\n",
    "OP_RIPEMD160 = 'a6'\n",
    "OP_EQUAL = '87'\n",
    "OP_EQUALVERIFY = '88'\n",
    "OP_DROP = '75'\n",
    "OP_DUP = '76'\n",
    "OP_HASH160 = 'a9'\n",
    "OP_CHECKSIG = 'ac'\n",
    "\n",
    "OP_NOP2 = 'b1'\n",
    "OP_CHECKLOCKTIMEVERIFY = OP_NOP2\n",
    "\n",
    "SIGHASH_ALL = 1"
   ]
  },
  {
   "cell_type": "code",
   "execution_count": 14,
   "metadata": {},
   "outputs": [],
   "source": [
    "class Transaction(BaseTransaction):\n",
    "\n",
    "    def __init__(self, previous_tx, previous_output_index, previous_pkh):\n",
    "        super(Transaction, self).__init__()\n",
    "        self.previous_tx = previous_tx\n",
    "        self.previous_output_index = previous_output_index\n",
    "        self.previous_pkh = previous_pkh\n",
    "\n",
    "        self.previous_tx = reverse_in_pair(self.previous_tx)\n",
    "        self.output_script = reverse_in_pair(\n",
    "            '{:08d}'.format(int(previous_output_index)))\n",
    "\n",
    "        self.tx_outputs = ''\n",
    "        self.number_outputs = 0\n",
    "\n",
    "    #####################################################################################\n",
    "\n",
    "    def make_output_script_address(self):\n",
    "        output_script_address = [\n",
    "            '19',\n",
    "            OP_DUP,             # 76\n",
    "            OP_HASH160,         # a9\n",
    "            '14',\n",
    "            self.previous_pkh,\n",
    "            OP_EQUALVERIFY,     # 88\n",
    "            OP_CHECKSIG         # ac\n",
    "        ]\n",
    "        self.output_script_address = ''.join(output_script_address)\n",
    "\n",
    "    def redeem_place_holder(self):\n",
    "        return variable_integer(self.previous_pkh) + self.previous_pkh\n",
    "\n",
    "    def make_tx_inputs_by_reedem(self):\n",
    "        tx_inputs = [\n",
    "            variable_integer(self.number_inputs),\n",
    "            reverse_in_pair(self.previous_tx),\n",
    "            reverse_in_pair('{:08d}'.format(int(self.previous_output_index))),\n",
    "            self.redeem_place_holder(),\n",
    "            'f'*8\n",
    "        ]\n",
    "        self.tx_inputs = ''.join(tx_inputs)\n",
    "\n",
    "    def make_tx_inputs(self, sig_script=None):\n",
    "        self.make_output_script_address()\n",
    "\n",
    "        tx_inputs = [\n",
    "            variable_integer(int(self.number_inputs)),\n",
    "            self.previous_tx,  # transaction id\n",
    "            self.output_script,\n",
    "            self.output_script_address,\n",
    "        ]\n",
    "        if sig_script:\n",
    "            tx_inputs += [sig_script]\n",
    "\n",
    "        tx_inputs += [self.sequence]\n",
    "        self.tx_inputs = ''.join(tx_inputs)\n",
    "\n",
    "    #####################################################################################\n",
    "\n",
    "    def transfer_btc(self, reciver_address, btc):\n",
    "        self.number_outputs += 1\n",
    "        self.tx_outputs = tx_outputs(reciver_address, btc) + self.tx_outputs\n",
    "\n",
    "    def transfer_data(self, data):\n",
    "        self.number_outputs += 1\n",
    "        self.tx_outputs = op_return(data) + self.tx_outputs\n",
    "\n",
    "    def make_tx_outputs(self):\n",
    "        self.tx_outputs = variable_integer(\n",
    "            int(self.number_outputs)) + self.tx_outputs\n",
    "\n",
    "    #####################################################################################\n",
    "\n",
    "    def compute_raw_transaction(self):\n",
    "        if self.number_outputs == 0:\n",
    "            raise Warning(\n",
    "                \"Raw transcation can't be computed, has not any outputs\")\n",
    "#         self.make_tx_inputs()\n",
    "        self.make_tx_inputs_by_reedem()\n",
    "        self.make_tx_outputs()\n",
    "        raw_transaction = [\n",
    "            self.version_number,\n",
    "            self.tx_inputs,\n",
    "            self.tx_outputs,\n",
    "            self.locktime,\n",
    "            self.sig_hash_code\n",
    "        ]\n",
    "        self.raw_transaction = ''.join(raw_transaction)\n",
    "\n",
    "    #####################################################################################\n",
    "\n",
    "    def make_digital_signature(self, private_key):\n",
    "        self.digital_signature = make_digital_signature(\n",
    "            self.raw_transaction, private_key)\n",
    "\n",
    "    def make_sig_script(self, public_key):\n",
    "        der_input = self.digital_signature\n",
    "        header = der_input[0:2]\n",
    "        sig_length = der_input[2:4]\n",
    "        r_integer = der_input[4:6]\n",
    "        r_length = der_input[6:8]\n",
    "        r = der_input[8:8 + 2 * int(r_length, 16)]\n",
    "        s_integer = der_input[8 + 2 *\n",
    "                              int(r_length, 16): 10 + 2 * int(r_length, 16)]\n",
    "        s_length = der_input[10 + 2 *\n",
    "                             int(r_length, 16): 12 + 2 * int(r_length, 16)]\n",
    "        s = der_input[12 + 2 * int(r_length, 16):]\n",
    "\n",
    "        pushdata_opcode = pushdata(r_length, s_length)\n",
    "        sighash_code = '01'\n",
    "\n",
    "        pubkey_pushdata_opcode = pubkey_opcode(public_key)\n",
    "\n",
    "        final_sig_script = (\n",
    "            pushdata_opcode + header + sig_length\n",
    "            + r_integer + r_length + r\n",
    "            + s_integer + s_length + s\n",
    "            + sighash_code + pubkey_pushdata_opcode\n",
    "            + public_key\n",
    "        )\n",
    "\n",
    "        self.sig_script = pubkey_opcode(final_sig_script) + final_sig_script\n",
    "\n",
    "    #####################################################################################\n",
    "\n",
    "    def make_broadcasting_transaction(self):\n",
    "        # add signature\n",
    "        #         self.make_tx_inputs(sig_script=self.sig_script)\n",
    "        self.make_tx_inputs_by_reedem()\n",
    "        broadcasting_tx = [\n",
    "            self.version_number,\n",
    "            self.tx_inputs,       # with signature\n",
    "            self.tx_outputs,\n",
    "            self.locktime,\n",
    "        ]\n",
    "        self.broadcasting_tx = ''.join(broadcasting_tx)"
   ]
  },
  {
   "cell_type": "code",
   "execution_count": null,
   "metadata": {},
   "outputs": [],
   "source": []
  },
  {
   "cell_type": "code",
   "execution_count": 18,
   "metadata": {},
   "outputs": [],
   "source": [
    "transaction_1 = Transaction(\n",
    "    previous_tx = 'b51e30f2132b1138429efb544349a22123f7f975952a293e36059126897403d8',\n",
    "    previous_output_index = '1',\n",
    "    previous_pkh = '324bc63075c92c30b98b8f3a8de7909dc9b6d42a'\n",
    ")"
   ]
  },
  {
   "cell_type": "code",
   "execution_count": 19,
   "metadata": {},
   "outputs": [],
   "source": [
    "transaction_1.transfer_btc(w2['btc'].public_address, 0.001)"
   ]
  },
  {
   "cell_type": "code",
   "execution_count": 20,
   "metadata": {},
   "outputs": [],
   "source": [
    "# transaction_1.transfer_data(w2['btc'].public_address)"
   ]
  },
  {
   "cell_type": "code",
   "execution_count": 21,
   "metadata": {},
   "outputs": [],
   "source": [
    "transaction_1.compute_raw_transaction()"
   ]
  },
  {
   "cell_type": "code",
   "execution_count": 22,
   "metadata": {},
   "outputs": [
    {
     "data": {
      "text/plain": [
       "218"
      ]
     },
     "execution_count": 22,
     "metadata": {},
     "output_type": "execute_result"
    }
   ],
   "source": [
    "len(transaction_1.raw_transaction)"
   ]
  },
  {
   "cell_type": "code",
   "execution_count": 23,
   "metadata": {},
   "outputs": [
    {
     "data": {
      "text/plain": [
       "'0100000001b51e30f2132b1138429efb544349a22123f7f975952a293e36059126897403d80100000014324bc63075c92c30b98b8f3a8de7909dc9b6d42affffffff01a0860100000000001976a914a3a790c628b05d5a214a3c0b3bcbcc930ca2945c88ac00000000'"
      ]
     },
     "execution_count": 23,
     "metadata": {},
     "output_type": "execute_result"
    }
   ],
   "source": [
    "transaction_1.make_digital_signature(w1['btc'].private_key)\n",
    "transaction_1.make_sig_script(w1['btc'].public_key)\n",
    "transaction_1.make_broadcasting_transaction()\n",
    "transaction_1.broadcasting_tx"
   ]
  },
  {
   "cell_type": "code",
   "execution_count": 24,
   "metadata": {},
   "outputs": [
    {
     "data": {
      "text/plain": [
       "'01b51e30f2132b1138429efb544349a22123f7f975952a293e36059126897403d80100000014324bc63075c92c30b98b8f3a8de7909dc9b6d42affffffff'"
      ]
     },
     "execution_count": 24,
     "metadata": {},
     "output_type": "execute_result"
    }
   ],
   "source": [
    "transaction_1.tx_inputs"
   ]
  },
  {
   "cell_type": "code",
   "execution_count": null,
   "metadata": {},
   "outputs": [],
   "source": []
  },
  {
   "cell_type": "code",
   "execution_count": 85,
   "metadata": {},
   "outputs": [],
   "source": [
    "class AtomicSwapTransaction(Transaction):\n",
    "\n",
    "    def __init__(self,\n",
    "                 previous_tx,\n",
    "                 previous_output_index, previous_pkh\n",
    "                 ):\n",
    "        super(Transaction, self).__init__()\n",
    "        self.previous_tx = previous_tx\n",
    "        self.previous_output_index = previous_output_index\n",
    "        self.previous_tx = reverse_in_pair(self.previous_tx)\n",
    "        self.output_script = reverse_in_pair(\n",
    "            '{:08d}'.format(int(previous_output_index)))\n",
    "        self.previous_pkh = previous_pkh\n",
    "        self.tx_outputs = ''\n",
    "        self.number_outputs = 0\n",
    "\n",
    "    def set_locktime(self, number_of_hours):\n",
    "        locktime = datetime.utcnow() + timedelta(hours=number_of_hours)\n",
    "        locktime = int(locktime.replace(tzinfo=timezone.utc).timestamp())\n",
    "        self.locktime = int_to_hex(locktime)\n",
    "\n",
    "    def build_atomic_swap_contract(self,\n",
    "                                   recipient_address,\n",
    "                                   sender_address,\n",
    "                                   secret_hash=None,\n",
    "                                   number_of_hours=1,\n",
    "                                   value=0.001):\n",
    "        self.set_locktime(number_of_hours)\n",
    "        if secret_hash is None:\n",
    "            secret_hash = None  # Генерировать если None\n",
    "\n",
    "        self.test = contract = [\n",
    "            OP_IF,\n",
    "            OP_RIPEMD160,\n",
    "            secret_hash,\n",
    "            OP_EQUALVERIFY,\n",
    "            OP_DUP,\n",
    "            OP_HASH160,\n",
    "            variable_integer(recipient_address),\n",
    "            base58.b58decode(recipient_address).hex()[2:-8],\n",
    "            OP_ELSE,\n",
    "            self.locktime,\n",
    "            OP_CHECKLOCKTIMEVERIFY,\n",
    "            OP_DROP,\n",
    "            OP_DUP,\n",
    "            OP_HASH160,\n",
    "            variable_integer(sender_address),\n",
    "            base58.b58decode(sender_address).hex()[2:-8],\n",
    "            OP_ENDIF,\n",
    "            OP_EQUALVERIFY,\n",
    "            OP_CHECKSIG,\n",
    "        ]\n",
    "        self.contract = ''.join(contract)\n",
    "        \n",
    "    def build_atomic_swap_output_tx1(self,\n",
    "                                   recipient_address,\n",
    "                                   secret_hash=None):\n",
    "\n",
    "        if secret_hash is None:\n",
    "            secret_hash = None  # Генерировать если None\n",
    "        \n",
    "        recipient = base58.b58decode(recipient_address).hex()[2:-8]\n",
    "        common = base58.b58decode(self.common_address).hex()[2:-8]\n",
    "        \n",
    "        out = [\n",
    "            OP_IF,\n",
    "            OP_RIPEMD160,\n",
    "            secret_hash,\n",
    "            OP_EQUALVERIFY,\n",
    "            OP_DUP,\n",
    "            OP_HASH160,\n",
    "            variable_integer(recipient),\n",
    "            recipient,\n",
    "            OP_EQUALVERIFY,\n",
    "            OP_CHECKSIG,\n",
    "            OP_ELSE,\n",
    "            OP_HASH160,\n",
    "            variable_integer(common),\n",
    "            common,\n",
    "            OP_EQUAL,\n",
    "            OP_ENDIF,\n",
    "\n",
    "        ]\n",
    "        self.tx1_out = ''.join(out)\n",
    "        \n",
    "    def build_atomic_swap_output_tx2(self,\n",
    "                                   sender_address,\n",
    "                                   number_of_hours=1,):\n",
    "        self.set_locktime(number_of_hours)\n",
    "            \n",
    "        sender = base58.b58decode(sender_address).hex()[2:-8]\n",
    "        \n",
    "        out = [\n",
    "            self.locktime, \n",
    "            OP_CHECKLOCKTIMEVERIFY,\n",
    "            OP_DROP,\n",
    "            OP_DUP,\n",
    "            OP_HASH160,\n",
    "            variable_integer(sender),\n",
    "            sender,\n",
    "            OP_EQUALVERIFY,\n",
    "            OP_CHECKSIG,\n",
    "        ]\n",
    "        self.tx2_out = ''.join(out)\n",
    "\n",
    "    def build_redeem_script(self):\n",
    "        self.redeem_script = OP_HASH160 + hash160(self.contract) + OP_EQUAL\n",
    "\n",
    "    def transfer_atoms(self, reciver_address, btc):\n",
    "        self.number_outputs += 1\n",
    "\n",
    "        self.tx_outputs = bitcoin_satoshi_rev_hex(\n",
    "            btc) + hex(int(len(self.contract)/2))[2:] + self.contract\n",
    "\n",
    "#     def make_tx_inputs(self):\n",
    "#         self.tx_inputs = (\n",
    "#             + variable_integer(int(self.number_inputs))\n",
    "#             + self.previous_tx\n",
    "#             + self.output_script\n",
    "#             + self.redeem_script\n",
    "#             + self.sequence\n",
    "#         )\n",
    "\n",
    "#     def make_tx_inputs(self):\n",
    "#         self.build_redeem_script()\n",
    "\n",
    "#         tx_inputs = [\n",
    "#             variable_integer(int(self.number_inputs)),\n",
    "#             self.previous_tx,  # transaction id\n",
    "#             self.output_script,\n",
    "#             self.redeem_script,\n",
    "#             self.sequence\n",
    "#         ]\n",
    "#         self.tx_inputs = ''.join(tx_inputs)\n",
    "\n",
    "    def make_tx_inputs_by_reedem(self):\n",
    "        tx_inputs = [\n",
    "            variable_integer(self.number_inputs),\n",
    "            reverse_in_pair(self.previous_tx),\n",
    "            reverse_in_pair('{:08d}'.format(int(self.previous_output_index))),\n",
    "            self.redeem_place_holder(),\n",
    "            'f'*8\n",
    "        ]\n",
    "        self.tx_inputs = ''.join(tx_inputs)\n",
    "\n",
    "    def make_tx_inputs(self, sig_script=None):\n",
    "        self.make_output_script_address()\n",
    "\n",
    "        tx_inputs = [\n",
    "            variable_integer(int(self.number_inputs)),\n",
    "            self.previous_tx,  # transaction id\n",
    "            self.output_script,\n",
    "            self.output_script_address,\n",
    "        ]\n",
    "        if sig_script:\n",
    "            tx_inputs += [sig_script]\n",
    "\n",
    "        tx_inputs += [self.sequence]\n",
    "        self.tx_inputs = ''.join(tx_inputs)\n",
    "        \n",
    "    def create_common(self, w1, w2):\n",
    "        n = 2\n",
    "        pub_keys = [w1.public_key, w2.public_key]\n",
    "        self.common_script = bitcoin.mk_multisig_script(pub_keys,n)\n",
    "        self.scriptaddress = bitcoin.scriptaddr(self.common_script)\n",
    "        self.common_address = public_to_test(self.scriptaddress)\n",
    "        self.common_redeem = variable_integer(self.common_script) + self.common_script\n",
    "        \n",
    "    def digital_signature(self, raw_tx, private_key):\n",
    "        unsigned = raw_tx\n",
    "\n",
    "        temp_bin = binascii.unhexlify(unsigned)\n",
    "        temp_hash = hashlib.sha256(temp_bin).digest()\n",
    "        tx_hash = hashlib.sha256(temp_hash).digest()\n",
    "        signingkey = ecdsa.SigningKey.from_string(bytes.fromhex(private_key), curve=ecdsa.SECP256k1)\n",
    "        SIG = signingkey.sign_digest(tx_hash, sigencode=ecdsa.util.sigencode_der_canonize)   \n",
    "        temp_sig = str(binascii.hexlify(SIG),'ascii')\n",
    "        return temp_sig\n",
    "    \n",
    "#     def public_to_test(self, a):\n",
    "#         decoded_address = base58.b58decode(scriptaddress)\n",
    "#         address_1 = decoded_address[1:-4]\n",
    "#         hex_address = bytes.fromhex(\"C4\") + address_1\n",
    "#         checksum_test_multsig = checksum(hex_address)\n",
    "#         test_address = to_base58(checksum_test_multsig)\n",
    "#         return test_a\n",
    "    \n",
    "    def create_rawtx2(self, tx1_hash, sender_address, btc, number_of_hours=1):\n",
    "\n",
    "        previous_output_index = '0'\n",
    "        self.previous_transaction_tx2 = reverse(tx1_hash)\n",
    "        self.output_script_tx2 = '0' + previous_output_index + '000000'\n",
    "\n",
    "        tx_ip = self.version_number + self.number_inputs + self.previous_transaction_tx2 + self.output_script_tx2 + self.common_redeem + self.sequence\n",
    "        \n",
    "        self.build_atomic_swap_output_tx2(sender_address, number_of_hours)\n",
    "        utxo_output = '1'\n",
    "        tx_output = bitcoin_satoshi_rev_hex(btc) + variable_integer(self.tx2_out) + self.tx2_out\n",
    "        self.next_output_data_tx2 =  variable_integer(int(utxo_output)) + tx_output\n",
    "\n",
    "        self.raw_tx2 = tx_ip + self.next_output_data_tx2 + self.locktime + self.sig_hash_code\n",
    "        \n",
    "    def sign_rawtx2(self, w1, w2):\n",
    "        signatures = ''\n",
    "        private_key1 = w1.private_key\n",
    "        private_key2 = w2.private_key\n",
    "        private_keys = [private_key1, private_key2]\n",
    "        for i in range(0, 2):\n",
    "            private_key = private_keys[i]\n",
    "            signature_temp = self.digital_signature(self.raw_tx2, private_key) + '01'\n",
    "            signature_temp_2 = variable_integer(signature_temp) + signature_temp\n",
    "            signatures = signatures + signature_temp_2\n",
    "\n",
    "        SigScript_places = '00' + signatures + '4c' + self.common_redeem \n",
    "        SigScript =  variable_integer(SigScript_places) + SigScript_places\n",
    "        self.tx2 = self.version_number + self.number_inputs + self.previous_transaction_tx2 + self.output_script_tx2 + SigScript + 'f'*8 + self.next_output_data_tx2 + self.locktime\n",
    "        print(self.tx2)\n",
    "        \n",
    "    def create_rawtx1(self, recipient_address, btc, secret_hash):\n",
    "        previous_tx_hash = self.previous_tx\n",
    "        previous_output_index = self.previous_output_index\n",
    "        previous_place_holder = self.previous_pkh\n",
    "        self.previous_transaction_tx1 = reverse(previous_tx_hash)\n",
    "        self.output_script_tx1 = '0' + previous_output_index + '000000'\n",
    "        script = '1976a914' + previous_place_holder + '88ac'\n",
    "\n",
    "        tx_ip = self.version_number + self.number_inputs + self.previous_transaction_tx1 + self.output_script_tx1 + script + self.sequence\n",
    "\n",
    "        self.build_atomic_swap_output_tx1(recipient_address, secret_hash)\n",
    "        \n",
    "        Outputs = '01'\n",
    "        self.out_tx1 = Outputs + bitcoin_satoshi_rev_hex(btc) + variable_integer(self.tx1_out) + self.tx1_out + '0'*8 + '01000000'\n",
    "\n",
    "        self.raw_tx1 = tx_ip + self.out_tx1\n",
    "        \n",
    "    def make_sig_script_(self, public_key, digital_signature):\n",
    "        der_input = digital_signature\n",
    "        header = der_input[0:2]\n",
    "        sig_length = der_input[2:4]\n",
    "        r_integer = der_input[4:6]\n",
    "        r_length = der_input[6:8]\n",
    "        r = der_input[8:8 + 2 * int(r_length, 16)]\n",
    "        s_integer = der_input[8 + 2 *\n",
    "                              int(r_length, 16): 10 + 2 * int(r_length, 16)]\n",
    "        s_length = der_input[10 + 2 *\n",
    "                             int(r_length, 16): 12 + 2 * int(r_length, 16)]\n",
    "        s = der_input[12 + 2 * int(r_length, 16):]\n",
    "\n",
    "        pushdata_opcode = pushdata(r_length, s_length)\n",
    "        sighash_code = '01'\n",
    "\n",
    "        pubkey_pushdata_opcode = pubkey_opcode(public_key)\n",
    "\n",
    "        final_sig_script = (\n",
    "            pushdata_opcode + header + sig_length\n",
    "            + r_integer + r_length + r\n",
    "            + s_integer + s_length + s\n",
    "            + sighash_code + pubkey_pushdata_opcode\n",
    "            + public_key\n",
    "        )\n",
    "\n",
    "        return pubkey_opcode(final_sig_script) + final_sig_script\n",
    "        \n",
    "    def sign_rawtx1(self, w1):\n",
    "        digital_signature_tx1 = self.digital_signature(self.raw_tx1, w1.private_key)\n",
    "        sig_script = self.make_sig_script_(w1.public_key, digital_signature_tx1)\n",
    "    \n",
    "        self.tx1 = self.version_number + self.number_inputs + self.previous_transaction_tx1 + self.output_script_tx1 + sig_script + self.sequence + self.out_tx1[:-8]\n",
    "        print(self.tx1)\n",
    "        \n",
    "#     def add_output(self, reciver_address, btc):\n",
    "#         self.number_outputs += 1\n",
    "#         self.tx_outputs = tx_outputs(reciver_address, btc) + self.tx_outputs\n",
    "        \n",
    "#     def make_tx_outputs(self):\n",
    "#         self.tx_outputs = variable_integer(\n",
    "#             int(self.number_outputs)) + self.tx_outputs\n",
    "    \n",
    "# #     def refund_redeem_place_holder(self):\n",
    "# #     srcipt = variable_integer(sender_adress) + \\\n",
    "# #         base58.b58decode(sender_adress).hex()[2:-8] + OP_FALSE\n",
    "# #     return variable_integer(script) + srcipt\n",
    "    \n",
    "#     def redeem_place_holder(self):\n",
    "#         return variable_integer(self.previous_pkh) + self.previous_pkh\n",
    "\n",
    "#     def make_digital_signature(self, *private_keys):\n",
    "#         pass\n",
    "\n",
    "\n",
    "#     def make_sig_script(self):\n",
    "#         sig_script_places = '00' + self.digital_signature + '4c' + self.redeem_script\n",
    "#         self.sig_script = variable_integer(sig_script_places) + sig_script_places"
   ]
  },
  {
   "cell_type": "code",
   "execution_count": 43,
   "metadata": {},
   "outputs": [],
   "source": [
    "transaction_2 = AtomicSwapTransaction(\n",
    "    previous_tx = 'b51e30f2132b1138429efb544349a22123f7f975952a293e36059126897403d8',\n",
    "    previous_output_index = '1',\n",
    "    previous_pkh = '324bc63075c92c30b98b8f3a8de7909dc9b6d42a'\n",
    ")"
   ]
  },
  {
   "cell_type": "code",
   "execution_count": 44,
   "metadata": {},
   "outputs": [],
   "source": [
    "secreet, secreet_hash = generate_secret_with_hash()\n",
    "transaction_2.build_atomic_swap_contract(\n",
    "    recipient_address=w1['btc'].public_address,\n",
    "    sender_address=w2['btc'].public_address,\n",
    "    secret_hash=str(secreet_hash),\n",
    "    number_of_hours=1\n",
    ")"
   ]
  },
  {
   "cell_type": "code",
   "execution_count": 45,
   "metadata": {},
   "outputs": [],
   "source": [
    "transaction_2.make_tx_inputs_by_reedem()"
   ]
  },
  {
   "cell_type": "code",
   "execution_count": 46,
   "metadata": {},
   "outputs": [
    {
     "data": {
      "text/plain": [
       "'a0860100000000004f63a614e17b4c2cd1fe21ee8c9cf806861093ad20b70f8876a911a45537f0e9e2e1447996c6a92a1779ddf34f71bc675fda5d08b17576a911a3a790c628b05d5a214a3c0b3bcbcc930ca2945c6888ac'"
      ]
     },
     "execution_count": 46,
     "metadata": {},
     "output_type": "execute_result"
    }
   ],
   "source": [
    "transaction_2.transfer_atoms(w1['btc'].public_address, 0.001)\n",
    "transaction_2.tx_outputs\n"
   ]
  },
  {
   "cell_type": "code",
   "execution_count": null,
   "metadata": {},
   "outputs": [],
   "source": []
  },
  {
   "cell_type": "code",
   "execution_count": 30,
   "metadata": {},
   "outputs": [
    {
     "data": {
      "text/plain": [
       "'0100000001b51e30f2132b1138429efb544349a22123f7f975952a293e36059126897403d80100000014324bc63075c92c30b98b8f3a8de7909dc9b6d42affffffff01a0860100000000004f63a65b982de2785eaf83cbf665bd921f8489d8d4fa5c8876a911a45537f0e9e2e1447996c6a92a1779ddf34f71bc675fd9d471b17576a911a3a790c628b05d5a214a3c0b3bcbcc930ca2945c6888ac5fd9d47101000000'"
      ]
     },
     "execution_count": 30,
     "metadata": {},
     "output_type": "execute_result"
    }
   ],
   "source": [
    "transaction_2.compute_raw_transaction()\n",
    "transaction_2.raw_transaction"
   ]
  },
  {
   "cell_type": "code",
   "execution_count": 31,
   "metadata": {},
   "outputs": [
    {
     "data": {
      "text/plain": [
       "'0100000001b51e30f2132b1138429efb544349a22123f7f975952a293e36059126897403d80100000014324bc63075c92c30b98b8f3a8de7909dc9b6d42affffffff01a0860100000000004f63a65b982de2785eaf83cbf665bd921f8489d8d4fa5c8876a911a45537f0e9e2e1447996c6a92a1779ddf34f71bc675fd9d471b17576a911a3a790c628b05d5a214a3c0b3bcbcc930ca2945c6888ac5fd9d471'"
      ]
     },
     "execution_count": 31,
     "metadata": {},
     "output_type": "execute_result"
    }
   ],
   "source": [
    "transaction_2.make_digital_signature(w1['btc'].private_key)\n",
    "transaction_2.make_sig_script(w1['btc'].public_key)\n",
    "transaction_2.make_broadcasting_transaction()\n",
    "transaction_2.broadcasting_tx"
   ]
  },
  {
   "cell_type": "code",
   "execution_count": null,
   "metadata": {},
   "outputs": [],
   "source": []
  },
  {
   "cell_type": "code",
   "execution_count": 32,
   "metadata": {},
   "outputs": [],
   "source": [
    "# TODO test\n",
    "def refund_redeem_place_holder(self):\n",
    "    srcipt = variable_integer(sender_adress) + \\\n",
    "        base58.b58decode(sender_adress).hex()[2:-8] + OP_FALSE\n",
    "    return variable_integer(script) + srcipt\n",
    "\n",
    "\n",
    "def refund_spend_integer(self):\n",
    "    srcipt = variable_integer(recipient_address),\n",
    "    base58.b58decode(recipient_address).hex()[2:-8] + secreet + OP_TRUE"
   ]
  },
  {
   "cell_type": "code",
   "execution_count": null,
   "metadata": {},
   "outputs": [],
   "source": []
  },
  {
   "cell_type": "code",
   "execution_count": 20,
   "metadata": {},
   "outputs": [],
   "source": [
    "import bitcoin"
   ]
  },
  {
   "cell_type": "code",
   "execution_count": 38,
   "metadata": {},
   "outputs": [],
   "source": [
    "def public_to_test(a):\n",
    "    decoded_address = base58.b58decode(a)\n",
    "    address_1 = decoded_address[1:-4]\n",
    "    hex_address = bytes.fromhex(\"C4\") + address_1\n",
    "    checksum_test_multsig = checksum(hex_address)\n",
    "    test_address = to_base58(checksum_test_multsig)\n",
    "    return test_address\n",
    "#Function for Checksum\n",
    "def checksum(b):\n",
    "    checksum_full = hashlib.sha256(hashlib.sha256(b).digest()).digest()\n",
    "    new_checksum = checksum_full[:4]\n",
    "    return b + new_checksum\n",
    "\n",
    "#Function to convert to base58    \n",
    "def to_base58(c):\n",
    "    return base58.b58encode(c).decode('utf-8')\n",
    "def reverse(a):\n",
    "    i = 0\n",
    "    rev_a = []\n",
    "    while i != len(a):\n",
    "        temp_value = a[i] + a[i+1]\n",
    "        rev_a.append(temp_value)\n",
    "        i = i + 2\n",
    "    rev_a.reverse()\n",
    "    return ''.join(rev_a)"
   ]
  },
  {
   "cell_type": "code",
   "execution_count": 86,
   "metadata": {},
   "outputs": [],
   "source": [
    "transaction_2 = AtomicSwapTransaction(\n",
    "    previous_tx = 'b51e30f2132b1138429efb544349a22123f7f975952a293e36059126897403d8',\n",
    "    previous_output_index = '1',\n",
    "    previous_pkh = '324bc63075c92c30b98b8f3a8de7909dc9b6d42a'\n",
    ")"
   ]
  },
  {
   "cell_type": "code",
   "execution_count": 87,
   "metadata": {},
   "outputs": [],
   "source": [
    "secreet, secreet_hash = generate_secret_with_hash()"
   ]
  },
  {
   "cell_type": "code",
   "execution_count": 88,
   "metadata": {},
   "outputs": [],
   "source": [
    "transaction_2.create_common(w1['btc'], w2['btc'])"
   ]
  },
  {
   "cell_type": "code",
   "execution_count": 89,
   "metadata": {},
   "outputs": [],
   "source": [
    "transaction_2.create_rawtx1(w2['btc'].public_address, 0.001, secreet_hash)"
   ]
  },
  {
   "cell_type": "code",
   "execution_count": 90,
   "metadata": {},
   "outputs": [
    {
     "name": "stdout",
     "output_type": "stream",
     "text": [
      "0100000001b51e30f2132b1138429efb544349a22123f7f975952a293e36059126897403d8010000006b483045022100f0d0860d8f8c8de9a1bd3126fb38337e8ddc871dc017cbd8dbd615a03cb7bdf302201f9b7d0aa8bbb973fcfd68d37cd8f8c5f8530e25f8a1c0102ef50dc940957b8601210315eb04cfe026f2ed94b541d7fcd27199a0c3975f3c615a5853342f56fc08a42cffffffff01a0860100000000004963a6a1a4324194f1339fc579df76bd8cba5aa99afbe28876a914a3a790c628b05d5a214a3c0b3bcbcc930ca2945c88ac67a91402365199e8ff2c966ba695e414797d5278e3313d876800000000\n"
     ]
    }
   ],
   "source": [
    "transaction_2.sign_rawtx1(w1['btc'])"
   ]
  },
  {
   "cell_type": "code",
   "execution_count": 91,
   "metadata": {},
   "outputs": [
    {
     "name": "stdout",
     "output_type": "stream",
     "text": [
      "010000000100000000d9004730440220605782d52776b156d0f1b490d511a8bb21b144b049b9203702effb1c253cd3a002205f4afd8c2e99e942e3f8b044c96504b74c26205f27906cd60c534f1b0c34903f014630430220504ae482eae1e1566d8c93fec208c61a69a0d15356ce0bc05d5137eb8be5d5b3021f2014f6f6c267c11050b6d61f9eff5ade7d2e993f13f4cc98b30f42861379dd014c4752210315eb04cfe026f2ed94b541d7fcd27199a0c3975f3c615a5853342f56fc08a42c21039b2e1dbda4516233cd707b9bd6e825c08a86bcbefb0c9f02bcae14325719ff1852aeffffffff01a0860100000000001f5fda6003b17576a914a45537f0e9e2e1447996c6a92a1779ddf34f71bc88ac5fda6003\n"
     ]
    }
   ],
   "source": [
    "tx1_hash = ''\n",
    "transaction_2.create_rawtx2(tx1_hash, w1['btc'].public_address, 0.001, number_of_hours=1)\n",
    "transaction_2.sign_rawtx2(w1['btc'], w2['btc'])"
   ]
  },
  {
   "cell_type": "code",
   "execution_count": null,
   "metadata": {},
   "outputs": [],
   "source": []
  }
 ],
 "metadata": {
  "kernelspec": {
   "display_name": "Python 3",
   "language": "python",
   "name": "python3"
  },
  "language_info": {
   "codemirror_mode": {
    "name": "ipython",
    "version": 3
   },
   "file_extension": ".py",
   "mimetype": "text/x-python",
   "name": "python",
   "nbconvert_exporter": "python",
   "pygments_lexer": "ipython3",
   "version": "3.7.4"
  },
  "latex_envs": {
   "LaTeX_envs_menu_present": true,
   "autoclose": false,
   "autocomplete": true,
   "bibliofile": "biblio.bib",
   "cite_by": "apalike",
   "current_citInitial": 1,
   "eqLabelWithNumbers": true,
   "eqNumInitial": 1,
   "hotkeys": {
    "equation": "Ctrl-E",
    "itemize": "Ctrl-I"
   },
   "labels_anchors": false,
   "latex_user_defs": false,
   "report_style_numbering": false,
   "user_envs_cfg": false
  },
  "toc": {
   "base_numbering": 1,
   "nav_menu": {},
   "number_sections": true,
   "sideBar": true,
   "skip_h1_title": false,
   "title_cell": "Table of Contents",
   "title_sidebar": "Contents",
   "toc_cell": false,
   "toc_position": {},
   "toc_section_display": true,
   "toc_window_display": false
  }
 },
 "nbformat": 4,
 "nbformat_minor": 2
}
