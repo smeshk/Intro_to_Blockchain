{
 "cells": [
  {
   "cell_type": "markdown",
   "metadata": {},
   "source": [
    "# Atomic swaps"
   ]
  },
  {
   "cell_type": "markdown",
   "metadata": {},
   "source": [
    "## Algorithm"
   ]
  },
  {
   "cell_type": "markdown",
   "metadata": {},
   "source": [
    "0. Generate addresses in each blockchain\n",
    "1. Generate random number x\n",
    "2. Calculate hash of x - H(x)\n",
    "3. A makes transaction $Tx_1$ and $Tx_2$\n",
    "    * $Tx_1$ has the following structure\n",
    "        * Correct input from previous blocks\n",
    "        * Condition output two cases\n",
    "            * Pay w BTC to B's public key in blockchain 1 if show preimage of H(x) (it's x)\n",
    "            * If Output signed by A and B private keys\n",
    "    * $Tx_2$ with output Pay w BTC from TX1 to A, locked 48 hours in the future, signed by A\n",
    "4. A send to B $Tx_2$ and B signs it with its private key\n",
    "    * This transaction needs to return money back to A if B refuses to do something with $Tx_1$\n",
    "5. B makes transaction $Tx_3$ and $Tx_4$ in second blockchain with the same logic as  $Tx_1$ and $Tx_2$ \n",
    "    * $Tx_3$ has the following structure\n",
    "        * Correct input from previous blocks\n",
    "        * Condition output two cases\n",
    "            * Pay k LTC to A's public key in blockchain 2 if show preimage of H(x) (it's x)\n",
    "            * If Output signed by A and B private keys\n",
    "    * $Tx_4$ with output Pay k LTC from TX3 to B, locked 24 hours in the future, signed by B (to return money back)\n",
    "6. B sends to A $Tx_4$ and A signs it with its private key\n",
    "7. A submits $Tx_1$\n",
    "8. B submits $Tx_3$\n",
    "9. A spends $Tx_3$ by providing x (the first case of output) now B knows x\n",
    "10. B spends $Tx_1$ by providing x (the first case of output)\n",
    "\n",
    "Emergency case\n",
    "* A or B refuses to spend $Tx_1$ or $Tx_3$\n",
    "    * We have transaction $Tx_2$ and $Tx_4$ to return money\n",
    "* After revealing the x A has 24 hours and B 48 to spend output, ot the money will be taken back by $Tx_2$ or $Tx_4$"
   ]
  },
  {
   "cell_type": "markdown",
   "metadata": {},
   "source": [
    "## Solution"
   ]
  },
  {
   "cell_type": "markdown",
   "metadata": {},
   "source": [
    "# Attention here will be used only testnet addresses !!!"
   ]
  },
  {
   "cell_type": "markdown",
   "metadata": {},
   "source": [
    "### Generation of addresses in the bitcoin blockchain"
   ]
  },
  {
   "cell_type": "markdown",
   "metadata": {},
   "source": [
    "#### Generation with bit library"
   ]
  },
  {
   "cell_type": "code",
   "execution_count": 1,
   "metadata": {},
   "outputs": [],
   "source": [
    "import base58\n",
    "import hashlib\n",
    "import random \n",
    "\n",
    "from bit import PrivateKeyTestnet as BKey\n",
    "\n",
    "from cashaddress import convert\n"
   ]
  },
  {
   "cell_type": "code",
   "execution_count": 2,
   "metadata": {},
   "outputs": [],
   "source": [
    "a_key_btc = BKey('cPW2VpCmvHtrdoEnAYnji1vCSuA3x3bymWxQ6DZYoExLnF2GGqMh')\n",
    "b_key_btc = BKey('cSEgbEcba2yFJ5TdSbrjFuy2MFwnc89dsAZNKuV3jRE6rHqUPWjF')\n",
    "a_key_btc_c = BKey('cNFJq2ovKSrvFv5sE2WRZHtXZRArDUHXPwMQky5JzspHL2vwH8Vc')\n",
    "b_key_btc_c = BKey('cVDtE9HBqtPPjV2z5dL1ouNc3YtqeBzVNSVsbr3u3rv2d696XMSQ')\n"
   ]
  },
  {
   "cell_type": "code",
   "execution_count": 3,
   "metadata": {},
   "outputs": [],
   "source": [
    "def print_public_private_key(key):\n",
    "    print('Private key wif:', key.to_wif())\n",
    "    print('Private key:', key.to_hex())\n",
    "    print('Public key:', key.public_key.hex())\n",
    "\n",
    "\n",
    "def print_bitcoin_adress_from_key(key):\n",
    "    print_public_private_key(key)\n",
    "    print('Bitcoin tesnet address:', key.address)\n",
    "\n",
    "\n",
    "def print_bitcoin_cash_adress_from_key(key):\n",
    "    print_public_private_key(key)\n",
    "    print('Bitcoin cash tesnet address:', convert.to_cash_address(key.address).replace('bchtest:',''))"
   ]
  },
  {
   "cell_type": "code",
   "execution_count": 4,
   "metadata": {},
   "outputs": [
    {
     "name": "stdout",
     "output_type": "stream",
     "text": [
      "Bitcoin adresses\n",
      "Private key wif: cPW2VpCmvHtrdoEnAYnji1vCSuA3x3bymWxQ6DZYoExLnF2GGqMh\n",
      "Private key: 394510c94f8b686640c667acc2eee88413e013a7f748764973ddf28c6ce03c1d\n",
      "Public key: 0315eb04cfe026f2ed94b541d7fcd27199a0c3975f3c615a5853342f56fc08a42c\n",
      "Private key wif: cSEgbEcba2yFJ5TdSbrjFuy2MFwnc89dsAZNKuV3jRE6rHqUPWjF\n",
      "Private key: 8ae38b646024bbf368e49d80a33b0c032502e4908499614124b07cc8cd27c352\n",
      "Public key: 039b2e1dbda4516233cd707b9bd6e825c08a86bcbefb0c9f02bcae14325719ff18\n"
     ]
    }
   ],
   "source": [
    "print('Bitcoin adresses')\n",
    "# Bitcoin A key\n",
    "# a_key_btc = BKey() TODO return\n",
    "print_public_private_key(a_key_btc)\n",
    "# Bitcoin B key\n",
    "# b_key_btc = BKey() TODO return\n",
    "print_public_private_key(b_key_btc)"
   ]
  },
  {
   "cell_type": "markdown",
   "metadata": {},
   "source": [
    "Bitcoin adresses\n",
    "\n",
    "A Private key wif: cPW2VpCmvHtrdoEnAYnji1vCSuA3x3bymWxQ6DZYoExLnF2GGqMh\n",
    "\n",
    "A private key: 394510c94f8b686640c667acc2eee88413e013a7f748764973ddf28c6ce03c1d\n",
    "\n",
    "A Public key: 0315eb04cfe026f2ed94b541d7fcd27199a0c3975f3c615a5853342f56fc08a42c\n",
    "\n",
    "A Public address: mvVsCboEwHDtdbr3VYc4mE4S76nWrgu3H6\n",
    "\n",
    "B Private key: cSEgbEcba2yFJ5TdSbrjFuy2MFwnc89dsAZNKuV3jRE6rHqUPWjF\n",
    "\n",
    "B private key: 8ae38b646024bbf368e49d80a33b0c032502e4908499614124b07cc8cd27c352\n",
    "\n",
    "B Public key: 039b2e1dbda4516233cd707b9bd6e825c08a86bcbefb0c9f02bcae14325719ff18\n",
    "\n",
    "B Public address: mvSHAyjrb76oyGXGrtq6XehYmSbhVYFyZR\n"
   ]
  },
  {
   "cell_type": "code",
   "execution_count": 5,
   "metadata": {},
   "outputs": [
    {
     "name": "stdout",
     "output_type": "stream",
     "text": [
      "Bitcoin cash adresses\n",
      "Private key wif: cNFJq2ovKSrvFv5sE2WRZHtXZRArDUHXPwMQky5JzspHL2vwH8Vc\n",
      "Private key: 13dc553936f915bf016b17bbf94ca651e898fbdd578e0ad800fb997eeed31214\n",
      "Public key: 02b9f03fddb4d61d335291b7a02f192e0efbf3d2ecc2a169c0663ef288ce4649d8\n",
      "Bitcoin cash tesnet address: qztww4ved7f9mw323gzu5pcaqggwd7hryuc0806ad3\n",
      "Private key wif: cVDtE9HBqtPPjV2z5dL1ouNc3YtqeBzVNSVsbr3u3rv2d696XMSQ\n",
      "Private key: e3fd64073cc6689f725d2a42a547c35df2e69a519ec4fc54985a604ba5173f35\n",
      "Public key: 02fa4a568ecb75791fc641f340e01b271517eceba48afe21809d7051af3df532a0\n",
      "Bitcoin cash tesnet address: qzgn0s3d8f4sr22cku7pqmaaq4qc9d2srv92pqjfy0\n"
     ]
    }
   ],
   "source": [
    "print('Bitcoin cash adresses')\n",
    "# Bitcoin cash A key\n",
    "# a_key_ltc = BKey()\n",
    "print_bitcoin_cash_adress_from_key(a_key_btc_c)\n",
    "# Bitcoin cash B key\n",
    "# b_key_ltc = BKey()\n",
    "print_bitcoin_cash_adress_from_key(b_key_btc_c)"
   ]
  },
  {
   "cell_type": "markdown",
   "metadata": {},
   "source": [
    "Bitcoin cash adresses\n",
    "\n",
    "A Private key wif: cQH4rK5QFMGmzrGfmyK2JKQjVYNut8yzcmXhS9gtQN9uW2icfhAH\n",
    "\n",
    "A Private key: 13dc553936f915bf016b17bbf94ca651e898fbdd578e0ad800fb997eeed31214\n",
    "\n",
    "A Public key: 035a0423eb31656c960079e22e82be15f045473db7ec954c407436b5237040986e\n",
    "\n",
    "A Bitcoin cash tesnet address: qztww4ved7f9mw323gzu5pcaqggwd7hryuc0806ad3\n",
    "\n",
    "B Private key wif : cT532DUXtTExpumabA8ZU7NQQ992Y45ncqv8hXTD23zNhDPSrexf\n",
    "\n",
    "B Private key: e3fd64073cc6689f725d2a42a547c35df2e69a519ec4fc54985a604ba5173f35\n",
    "\n",
    "B Public key: 029a19a7c5b51743b3641adfbd88f5fe213548183ee997d1760ba1a0cd2d70fa32\n",
    "\n",
    "B Bitcoin cash tesnet address: qzgn0s3d8f4sr22cku7pqmaaq4qc9d2srv92pqjfy0"
   ]
  },
  {
   "cell_type": "markdown",
   "metadata": {},
   "source": [
    "#####  Get some money\n",
    "A address bitcoin TX ```e9813fd9c46bae13bedd5b5cedb4d62649b50589d49920f0cc5b951867ee3223```\n",
    "\n",
    "B address bitcoin TX ```ad297300090d9ef4dab87a9d356d923bac46d5fd31733da7b4fd39d3d8124272```\n",
    "\n",
    "A address bitcoin cash TX ```e2eb65dac003caf7b8e922f0afa8d501be2c96fb06f2656c069f2654ceb44ecf```\n",
    "\n",
    "B address bitcoin cash TX ```662c13380d01fdb38177a77958c76e483a197f399432946de7bca84b6ca37a14```"
   ]
  },
  {
   "cell_type": "markdown",
   "metadata": {},
   "source": [
    "### Create transcation in bitcoin net"
   ]
  },
  {
   "cell_type": "code",
   "execution_count": 6,
   "metadata": {},
   "outputs": [],
   "source": [
    "class BitcoinWallet(object):\n",
    "    '''Wallet object.'''\n",
    "\n",
    "    def __init__(self, private_key=None, public_key=None, public_address=None):\n",
    "        self.private_key = private_key\n",
    "        self.public_key = public_key\n",
    "        self.public_address = public_address\n",
    "    "
   ]
  },
  {
   "cell_type": "code",
   "execution_count": 7,
   "metadata": {},
   "outputs": [],
   "source": [
    "w1 = {\n",
    "    'btc': BitcoinWallet(\n",
    "        private_key='394510c94f8b686640c667acc2eee88413e013a7f748764973ddf28c6ce03c1d',\n",
    "        public_key='0315eb04cfe026f2ed94b541d7fcd27199a0c3975f3c615a5853342f56fc08a42c',\n",
    "        public_address='mvVsCboEwHDtdbr3VYc4mE4S76nWrgu3H6'\n",
    "    ),\n",
    "    'bcash': BitcoinWallet(\n",
    "        private_key='e3fd64073cc6689f725d2a42a547c35df2e69a519ec4fc54985a604ba5173f35',\n",
    "        public_key='035a0423eb31656c960079e22e82be15f045473db7ec954c407436b5237040986e',\n",
    "        public_address='qztww4ved7f9mw323gzu5pcaqggwd7hryuc0806ad3'\n",
    "    )\n",
    "}\n",
    "\n",
    "w2 = {\n",
    "    'btc': BitcoinWallet(\n",
    "        private_key='8ae38b646024bbf368e49d80a33b0c032502e4908499614124b07cc8cd27c352',\n",
    "        public_key='039b2e1dbda4516233cd707b9bd6e825c08a86bcbefb0c9f02bcae14325719ff18',\n",
    "        public_address='mvSHAyjrb76oyGXGrtq6XehYmSbhVYFyZR'\n",
    "    ),\n",
    "    'bcash': BitcoinWallet(\n",
    "        private_key='e3fd64073cc6689f725d2a42a547c35df2e69a519ec4fc54985a604ba5173f35',\n",
    "        public_key='029a19a7c5b51743b3641adfbd88f5fe213548183ee997d1760ba1a0cd2d70fa32',\n",
    "        public_address='qzgn0s3d8f4sr22cku7pqmaaq4qc9d2srv92pqjfy0'\n",
    "    )\n",
    "}"
   ]
  },
  {
   "cell_type": "code",
   "execution_count": 8,
   "metadata": {},
   "outputs": [],
   "source": [
    "import base58\n",
    "import binascii\n",
    "import ecdsa\n",
    "import hashlib\n",
    "\n",
    "import hashlib\n",
    "import secrets\n",
    "\n",
    "from bitcoin.core import CMutableTxIn,  script, x\n",
    "from datetime import datetime, timedelta, timezone"
   ]
  },
  {
   "cell_type": "code",
   "execution_count": 9,
   "metadata": {},
   "outputs": [],
   "source": [
    "def hash160(msg):\n",
    "    msg = bytes.fromhex(msg)\n",
    "    h = hashlib.new('ripemd160')\n",
    "    h.update(hashlib.sha256(msg).digest())\n",
    "    return h.digest()\n",
    "\n",
    "\n",
    "def bitcoin_satoshi_rev_hex(btc):\n",
    "    temp = float(btc) * (10**8)\n",
    "    temp_1 = hex(int(temp))[2:]\n",
    "    temp_2 = reverse_in_pair(str(temp_1).zfill(16))\n",
    "    return temp_2\n",
    "\n",
    "\n",
    "def reverse_in_pair(a):\n",
    "    i = 0\n",
    "    rev_a = []\n",
    "    while i != len(a):\n",
    "        temp_value = a[i] + a[i+1]\n",
    "        rev_a.append(temp_value)\n",
    "        i = i + 2\n",
    "    rev_a.reverse()\n",
    "    return ''.join(rev_a)\n",
    "\n",
    "\n",
    "def generate_secret_with_hash():\n",
    "    secret = secrets.token_bytes(32)\n",
    "    secret_hash = hashlib.new('ripemd160', secret).digest()\n",
    "    return secret.hex(), secret_hash.hex()\n",
    "\n",
    "\n",
    "def padding(b):\n",
    "    if int(len(b) % 2) == 0:\n",
    "        return b\n",
    "    else:\n",
    "        return '0' + b\n",
    "\n",
    "\n",
    "def variable_integer(a):\n",
    "    if type(a) == int:\n",
    "        temp = a\n",
    "    else:\n",
    "        temp = int(len(a)/2)\n",
    "\n",
    "    if temp <= int('0xfc', 16):\n",
    "        return padding(hex(temp)[2:])\n",
    "    elif temp > int('0xfc', 16) and temp <= int('0xffff', 16):\n",
    "        return 'fd' + reverse_in_pair(padding(hex(temp)[2:]))\n",
    "    elif temp > int('0xffff', 16) and temp <= int('0xffffffff', 16):\n",
    "        return 'fe' + v(padding(hex(temp)[2:]))\n",
    "    elif temp > int('0xffffffff', 16) and temp <= int('0xffffffffffffffff', 16):\n",
    "        return 'ff' + reverse_in_pair(padding(hex(temp)[2:]))\n",
    "\n",
    "\n",
    "def tx_outputs(receiver_address, btc):\n",
    "    first_char = receiver_address[0]\n",
    "    if first_char == 'm' or first_char == 'n':\n",
    "        # Common receiver\n",
    "        value_in_hex_NYB = bitcoin_satoshi_rev_hex(btc)\n",
    "        receiver_address = base58.b58decode(receiver_address).hex()[2:-8]\n",
    "        size_receiver = hex(int(len(receiver_address)/2))[2:]\n",
    "        locking_Script = '76' + 'a9' + size_receiver + receiver_address + '88' + 'ac'\n",
    "        script_len_2 = hex(int(len(locking_Script)/2))[2:]\n",
    "\n",
    "    elif first_char == '2':\n",
    "        # MultiSigntature receiver\n",
    "        value_in_hex_NYB = bitcoin_satoshi_rev_hex(btc)\n",
    "        receiver_address = base58.b58decode(receiver_address).hex()[2:-8]\n",
    "        locking_Script = 'a9' + \\\n",
    "            variable_integer(receiver_address) + receiver_address + '87'\n",
    "        script_len_2 = variable_integer(locking_Script)\n",
    "\n",
    "    else:\n",
    "        raise NotImplementedError(\n",
    "            f'Check your receiver_address: {receiver_address}')\n",
    "    return value_in_hex_NYB + script_len_2 + locking_Script\n",
    "\n",
    "\n",
    "def op_return(data):\n",
    "    value_return = '0'*16\n",
    "    text_from_bytes = binascii.b2a_hex(data.encode(\"utf-8\")).decode()\n",
    "    len_data = hex(int(len(text_from_bytes)/2))[2:]\n",
    "    partial_data = '6a' + padding(len_data) + text_from_bytes\n",
    "    return value_return + padding(hex(int(len(partial_data)/2))[2:]) + partial_data\n",
    "\n",
    "\n",
    "def pushdata(len_r, len_s):\n",
    "    if len_r == '20' and len_s == '20':\n",
    "        return str(47)\n",
    "    elif len_r == '20' or len_s == '21':\n",
    "        return str(48)\n",
    "    elif len_r == '21' or len_s == '20':\n",
    "        return str(48)\n",
    "    else:\n",
    "        return str(49)\n",
    "\n",
    "\n",
    "def pubkey_opcode(a):\n",
    "    return hex(int(int(len(a))/2))[2:]\n",
    "\n",
    "\n",
    "def int_to_hex(x) -> str:\n",
    "    return hex(x)[2:]\n",
    "\n",
    "\n",
    "def make_digital_signature(raw_tx, private_key):\n",
    "    unsigned = raw_tx\n",
    "\n",
    "    temp_bin = binascii.unhexlify(unsigned)\n",
    "    temp_hash = hashlib.sha256(temp_bin).digest()\n",
    "    tx_hash = hashlib.sha256(temp_hash).digest()\n",
    "\n",
    "    signingkey = ecdsa.SigningKey.from_string(\n",
    "        bytes.fromhex(private_key), curve=ecdsa.SECP256k1)\n",
    "    dig_sig = signingkey.sign_digest(\n",
    "        tx_hash, sigencode=ecdsa.util.sigencode_der_canonize)\n",
    "    dig_sig = str(binascii.hexlify(dig_sig), 'ascii')\n",
    "    return dig_sig"
   ]
  },
  {
   "cell_type": "code",
   "execution_count": 10,
   "metadata": {},
   "outputs": [],
   "source": [
    "class BaseTransaction(object):\n",
    "    version_number = '01000000'\n",
    "    number_inputs = '01'\n",
    "    sequence = 'ffffffff'\n",
    "    locktime = '00000000'\n",
    "    sig_hash_code = '01000000'"
   ]
  },
  {
   "cell_type": "code",
   "execution_count": 11,
   "metadata": {},
   "outputs": [],
   "source": [
    "OP_0 = '00'\n",
    "OP_FALSE = OP_0\n",
    "OP_1 = '51'\n",
    "OP_TRUE = OP_1\n",
    "\n",
    "OP_IF = '63'\n",
    "OP_ELSE = '67'\n",
    "OP_ENDIF = '68'\n",
    "\n",
    "OP_RIPEMD160 = 'a6'\n",
    "OP_EQUAL = '87'\n",
    "OP_EQUALVERIFY = '88'\n",
    "OP_DROP = '75'\n",
    "OP_DUP = '76'\n",
    "OP_HASH160 = 'a9'\n",
    "OP_CHECKSIG = 'ac'\n",
    "\n",
    "OP_NOP2 = 'b1'\n",
    "OP_CHECKLOCKTIMEVERIFY = OP_NOP2\n",
    "\n",
    "SIGHASH_ALL = 1"
   ]
  },
  {
   "cell_type": "code",
   "execution_count": 12,
   "metadata": {},
   "outputs": [],
   "source": [
    "class Transaction(BaseTransaction):\n",
    "\n",
    "    def __init__(self, previous_tx, previous_output_index, previous_pkh):\n",
    "        super(Transaction, self).__init__()\n",
    "        self.previous_tx = previous_tx\n",
    "        self.previous_output_index = previous_output_index\n",
    "        self.previous_pkh = previous_pkh\n",
    "        self.output_script = reverse_in_pair(\n",
    "            '{:08d}'.format(int(previous_output_index)))\n",
    "\n",
    "        self.tx_outputs = ''\n",
    "        self.number_outputs = 0\n",
    "\n",
    "    #####################################################################################\n",
    "\n",
    "    def make_output_script_address(self):\n",
    "        output_script_address = [\n",
    "            '19',\n",
    "            OP_DUP,             # 76\n",
    "            OP_HASH160,         # a9\n",
    "            '14',\n",
    "            self.previous_pkh,\n",
    "            OP_EQUALVERIFY,     # 88\n",
    "            OP_CHECKSIG         # ac\n",
    "        ]\n",
    "        self.output_script_address = ''.join(output_script_address)\n",
    "        \n",
    "    def make_tx_inputs(self, sig_script=None):\n",
    "        self.make_output_script_address()\n",
    "\n",
    "        tx_inputs = [\n",
    "            variable_integer(int(self.number_inputs)),\n",
    "            self.previous_tx,  # transaction id\n",
    "            self.output_script,\n",
    "            self.output_script_address,\n",
    "        ]\n",
    "        if sig_script:\n",
    "            tx_inputs += [sig_script]\n",
    "\n",
    "        tx_inputs += [self.sequence]\n",
    "        self.tx_inputs = ''.join(tx_inputs)\n",
    "\n",
    "    def redeem_place_holder(self):\n",
    "        return  '1976a914' + self.previous_pkh + '88ac'\n",
    "#         return variable_integer(script) + script\n",
    "\n",
    "    def make_tx_inputs_by_reedem(self):\n",
    "        tx_inputs = [\n",
    "            variable_integer(self.number_inputs),\n",
    "            reverse_in_pair(self.previous_tx),\n",
    "            reverse_in_pair('{:08d}'.format(int(self.previous_output_index))),\n",
    "            self.redeem_place_holder(),\n",
    "            self.sequence\n",
    "        ]\n",
    "        self.tx_inputs = ''.join(tx_inputs)\n",
    "\n",
    "    #####################################################################################\n",
    "\n",
    "    def transfer_btc(self, reciver_address, btc):\n",
    "        self.number_outputs += 1\n",
    "        self.tx_outputs = tx_outputs(reciver_address, btc) + self.tx_outputs\n",
    "\n",
    "    def transfer_data(self, data):\n",
    "        self.number_outputs += 1\n",
    "        self.tx_outputs = op_return(data) + self.tx_outputs\n",
    "\n",
    "    def make_tx_outputs(self):\n",
    "        self.tx_outputs = variable_integer(int(self.number_outputs)) + self.tx_outputs\n",
    "\n",
    "    #####################################################################################\n",
    "\n",
    "    def compute_raw_transaction(self):\n",
    "        if self.number_outputs == 0:\n",
    "            raise Warning(\n",
    "                \"Raw transcation can't be computed, has not any outputs\")\n",
    "#         self.make_tx_inputs()\n",
    "        self.make_tx_inputs_by_reedem()\n",
    "        self.make_tx_outputs()\n",
    "        raw_transaction = [\n",
    "            self.version_number,\n",
    "            self.tx_inputs,\n",
    "            self.tx_outputs,\n",
    "            self.locktime,\n",
    "            self.sig_hash_code\n",
    "        ]\n",
    "        self.raw_transaction = ''.join(raw_transaction)\n",
    "\n",
    "    #####################################################################################"
   ]
  },
  {
   "cell_type": "code",
   "execution_count": null,
   "metadata": {},
   "outputs": [],
   "source": []
  },
  {
   "cell_type": "code",
   "execution_count": 13,
   "metadata": {},
   "outputs": [],
   "source": [
    "transaction_1 = Transaction(\n",
    "    previous_tx = 'b51e30f2132b1138429efb544349a22123f7f975952a293e36059126897403d8',\n",
    "    previous_output_index = '1',\n",
    "    previous_pkh = '324bc63075c92c30b98b8f3a8de7909dc9b6d42a'\n",
    ")"
   ]
  },
  {
   "cell_type": "code",
   "execution_count": 14,
   "metadata": {},
   "outputs": [],
   "source": [
    "transaction_1.transfer_btc(w2['btc'].public_address, 0.001)"
   ]
  },
  {
   "cell_type": "code",
   "execution_count": 15,
   "metadata": {},
   "outputs": [
    {
     "data": {
      "text/plain": [
       "'0100000001d8037489269105363e292a9575f9f72321a2494354fb9e4238112b13f2301eb5010000001976a914324bc63075c92c30b98b8f3a8de7909dc9b6d42a88acffffffff01a0860100000000001976a914a3a790c628b05d5a214a3c0b3bcbcc930ca2945c88ac0000000001000000'"
      ]
     },
     "execution_count": 15,
     "metadata": {},
     "output_type": "execute_result"
    }
   ],
   "source": [
    "transaction_1.compute_raw_transaction()\n",
    "transaction_1.raw_transaction"
   ]
  },
  {
   "cell_type": "code",
   "execution_count": 16,
   "metadata": {},
   "outputs": [
    {
     "data": {
      "text/plain": [
       "'0100000001d8037489269105363e292a9575f9f72321a2494354fb9e4238112b13f2301eb5010000001976a914324bc63075c92c30b98b8f3a8de7909dc9b6d42a88acffffffff01a0860100000000001976a914a3a790c628b05d5a214a3c0b3bcbcc930ca2945c88ac00000000'"
      ]
     },
     "execution_count": 16,
     "metadata": {},
     "output_type": "execute_result"
    }
   ],
   "source": [
    "a_key_btc.sign_transaction(transaction_1.raw_transaction)"
   ]
  },
  {
   "cell_type": "code",
   "execution_count": null,
   "metadata": {},
   "outputs": [],
   "source": []
  },
  {
   "cell_type": "code",
   "execution_count": null,
   "metadata": {},
   "outputs": [],
   "source": []
  },
  {
   "cell_type": "code",
   "execution_count": 17,
   "metadata": {},
   "outputs": [],
   "source": [
    "class AtomicSwapTransaction(Transaction):\n",
    "\n",
    "    def __init__(self, previous_tx, \n",
    "                 previous_output_index, previous_pkh):\n",
    "        super(Transaction, self).__init__()\n",
    "        self.previous_output_index = previous_output_index\n",
    "        self.previous_tx = previous_tx\n",
    "        self.output_script = reverse_in_pair('{:08d}'.format(int(previous_output_index)))\n",
    "        self.previous_pkh = previous_pkh\n",
    "        self.tx_outputs = ''\n",
    "        self.number_outputs = 0\n",
    "\n",
    "    def set_locktime(self, number_of_hours):\n",
    "        locktime = datetime.utcnow() + timedelta(hours=number_of_hours)\n",
    "        locktime = int(locktime.replace(tzinfo=timezone.utc).timestamp())\n",
    "        self.locktime = locktime\n",
    "\n",
    "    def build_atomic_swap_contract(self,\n",
    "                                   recipient_address,\n",
    "                                   sender_address,\n",
    "                                   secret_hash=None,\n",
    "                                   number_of_hours=1,\n",
    "                                   value=0.001):\n",
    "        if secret_hash is None:\n",
    "            secret, secret_hash = generate_secret_with_hash()\n",
    "            print(f'Secret: {secret}')\n",
    "            print(f'Secret_hash: {secret_hash}')\n",
    "        self.set_locktime(0)\n",
    "        self.script = [\n",
    "            script.OP_IF,\n",
    "            script.OP_RIPEMD160,\n",
    "            str.encode(secret_hash),\n",
    "            script.OP_EQUALVERIFY,\n",
    "            script.OP_DUP,\n",
    "            script.OP_HASH160,\n",
    "            str.encode(base58.b58decode(recipient_address).hex()[2:-8]),\n",
    "            script.OP_ELSE,\n",
    "            self.locktime,\n",
    "            script.OP_CHECKLOCKTIMEVERIFY,\n",
    "            script.OP_DROP,\n",
    "            script.OP_DUP,\n",
    "            script.OP_HASH160,\n",
    "            str.encode(base58.b58decode(sender_address).hex()[2:-8]),\n",
    "            script.OP_ENDIF,\n",
    "            script.OP_EQUALVERIFY,\n",
    "            script.OP_CHECKSIG\n",
    "        ]\n",
    "        contract = script.CScript(self.script)\n",
    "        self.contract = contract.hex()\n",
    "\n",
    "    def build_redeem_script(self):\n",
    "        self.redeem_script = OP_HASH160 + hash160(self.contract) + OP_EQUAL\n",
    "\n",
    "    def transfer_atoms(self, reciver_address, btc):\n",
    "        self.number_outputs += 1\n",
    "        self.tx_outputs += bitcoin_satoshi_rev_hex(btc) + hex(int(len(self.contract)/2))[2:] + self.contract\n",
    "\n",
    "    def make_tx_inputs_by_reedem(self):\n",
    "        tx_inputs = [\n",
    "            variable_integer(self.number_inputs),\n",
    "            reverse_in_pair(self.previous_tx),\n",
    "            reverse_in_pair('{:08d}'.format(int(self.previous_output_index))),\n",
    "            self.redeem_place_holder(),\n",
    "            self.sequence\n",
    "        ]\n",
    "        self.tx_inputs = ''.join(tx_inputs)\n"
   ]
  },
  {
   "cell_type": "markdown",
   "metadata": {},
   "source": [
    "### Example of making main transaction"
   ]
  },
  {
   "cell_type": "code",
   "execution_count": 18,
   "metadata": {},
   "outputs": [],
   "source": [
    "# secret, secret_hash = generate_secret_with_hash()\n",
    "secret = '1336a876ab783d26cb6d959429c6b9fb60e435ca686370c20a4fb81bc46e5a7a'\n",
    "secret_hash = '4a91794cae46131ade6a7e9cb19bbc65466a3a20'\n",
    "transaction_2 = AtomicSwapTransaction(\n",
    "    previous_tx = 'd88570b186d8e9bb0774c43a788b9a615664375ee6fdb2fc0222e0b25484a803',\n",
    "    previous_output_index = '0',\n",
    "    previous_pkh = 'a3a790c628b05d5a214a3c0b3bcbcc930ca2945c'\n",
    ")\n",
    "\n",
    "transaction_2.build_atomic_swap_contract(\n",
    "    recipient_address=w1['btc'].public_address,\n",
    "    sender_address=w2['btc'].public_address,\n",
    "    secret_hash=str(secret_hash),\n",
    "    number_of_hours=1\n",
    ")"
   ]
  },
  {
   "cell_type": "code",
   "execution_count": 19,
   "metadata": {},
   "outputs": [],
   "source": [
    "transaction_2.transfer_btc(w2['btc'].public_address, 0.006)\n",
    "transaction_2.transfer_atoms(w1['btc'].public_address, 0.001)\n"
   ]
  },
  {
   "cell_type": "code",
   "execution_count": 20,
   "metadata": {},
   "outputs": [
    {
     "data": {
      "text/plain": [
       "'010000000103a88454b2e02202fcb2fde65e376456619a8b783ac47407bbe9d886b17085d8000000001976a914a3a790c628b05d5a214a3c0b3bcbcc930ca2945c88acffffffff02c0270900000000001976a914a3a790c628b05d5a214a3c0b3bcbcc930ca2945c88aca0860100000000008d63a628346139313739346361653436313331616465366137653963623139626263363534363661336132308876a928613435353337663065396532653134343739393663366139326131373739646466333466373162636704dad8db5fb17576a928613361373930633632386230356435613231346133633062336263626363393330636132393435636888ac0000000001000000'"
      ]
     },
     "execution_count": 20,
     "metadata": {},
     "output_type": "execute_result"
    }
   ],
   "source": [
    "transaction_2.compute_raw_transaction()\n",
    "transaction_2.raw_transaction"
   ]
  },
  {
   "cell_type": "code",
   "execution_count": 21,
   "metadata": {},
   "outputs": [
    {
     "data": {
      "text/plain": [
       "'010000000103a88454b2e02202fcb2fde65e376456619a8b783ac47407bbe9d886b17085d8000000001976a914a3a790c628b05d5a214a3c0b3bcbcc930ca2945c88acffffffff02c0270900000000001976a914a3a790c628b05d5a214a3c0b3bcbcc930ca2945c88aca0860100000000008d63a628346139313739346361653436313331616465366137653963623139626263363534363661336132308876a928613435353337663065396532653134343739393663366139326131373739646466333466373162636704dad8db5fb17576a928613361373930633632386230356435613231346133633062336263626363393330636132393435636888ac00000000'"
      ]
     },
     "execution_count": 21,
     "metadata": {},
     "output_type": "execute_result"
    }
   ],
   "source": [
    "b_key_btc.sign_transaction(transaction_2.raw_transaction)"
   ]
  },
  {
   "cell_type": "code",
   "execution_count": 22,
   "metadata": {},
   "outputs": [],
   "source": [
    "# 243d72c492d75681bb5595262d281e948861bac8d99a6b7a9227d901042da31c"
   ]
  },
  {
   "cell_type": "code",
   "execution_count": null,
   "metadata": {},
   "outputs": [],
   "source": []
  },
  {
   "cell_type": "code",
   "execution_count": 23,
   "metadata": {},
   "outputs": [],
   "source": [
    "class PaymentTransaction(Transaction):\n",
    "    def __init__(self, previous_tx, previous_output_index, previous_pkh, \n",
    "                 secret, recipient_address, contract):\n",
    "        super(PaymentTransaction, self).__init__(previous_tx, previous_output_index, previous_pkh)\n",
    "        self.previous_tx = previous_tx\n",
    "        self.previous_output_index = previous_output_index\n",
    "        self.previous_pkh = previous_pkh\n",
    "        self.secret = secret\n",
    "        self.recipient_address = recipient_address\n",
    "    \n",
    "    def redeem_place_holder(self):\n",
    "        srcipt = script.CScript([x(secret), script.OP_TRUE])\n",
    "        self.script = srcipt\n",
    "        srcipt = srcipt.hex()\n",
    "\n",
    "        return  variable_integer(srcipt) + self.script.hex()\n",
    "\n",
    "\n",
    "    \n",
    "class RefundTransaction(Transaction):\n",
    "    def __init__(self, previous_tx, previous_output_index, previous_pkh, \n",
    "                 secret, recipient_address, contract):\n",
    "        super(RefundTransaction, self).__init__(previous_tx, previous_output_index, previous_pkh)\n",
    "        self.previous_tx = previous_tx\n",
    "        self.previous_output_index = previous_output_index\n",
    "        self.previous_pkh = previous_pkh\n",
    "        self.secret = secret\n",
    "        self.recipient_address = recipient_address\n",
    "    \n",
    "    def redeem_place_holder(self):\n",
    "        srcipt = script.CScript([script.OP_FALSE])\n",
    "        self.script = srcipt\n",
    "        srcipt = srcipt.hex()\n",
    "\n",
    "        return  variable_integer(srcipt) + srcipt"
   ]
  },
  {
   "cell_type": "markdown",
   "metadata": {},
   "source": [
    "### Emaple of refund transaction"
   ]
  },
  {
   "cell_type": "code",
   "execution_count": 24,
   "metadata": {},
   "outputs": [
    {
     "data": {
      "text/plain": [
       "'01000000010056e463856363f5483963aecb6f8532e08f63e1bd4b83d4716e2ad307a76708000000001976a914a45537f0e9e2e1447996c6a92a1779ddf34f71bc88acffffffff029fbb0d00000000001976a914a45537f0e9e2e1447996c6a92a1779ddf34f71bc88aca0860100000000008d63a628346139313739346361653436313331616465366137653963623139626263363534363661336132308876a928613435353337663065396532653134343739393663366139326131373739646466333466373162636704dad8db5fb17576a928613361373930633632386230356435613231346133633062336263626363393330636132393435636888ac0000000001000000'"
      ]
     },
     "execution_count": 24,
     "metadata": {},
     "output_type": "execute_result"
    }
   ],
   "source": [
    "transaction_2 = AtomicSwapTransaction(\n",
    "    previous_tx = '0867a707d32a6e71d4834bbde1638fe032856fcbae633948f563638563e45600',\n",
    "    previous_output_index = '0',\n",
    "    previous_pkh = 'a45537f0e9e2e1447996c6a92a1779ddf34f71bc'\n",
    ")\n",
    "\n",
    "transaction_2.build_atomic_swap_contract(\n",
    "    recipient_address=w1['btc'].public_address,\n",
    "    sender_address=w2['btc'].public_address,\n",
    "    secret_hash=str(secret_hash),\n",
    "    number_of_hours=0 # to not wait\n",
    ")\n",
    "\n",
    "transaction_2.transfer_btc(w1['btc'].public_address, 0.009)\n",
    "transaction_2.transfer_atoms(w2['btc'].public_address, 0.001)\n",
    "transaction_2.compute_raw_transaction()\n",
    "transaction_2.raw_transaction"
   ]
  },
  {
   "cell_type": "code",
   "execution_count": 25,
   "metadata": {},
   "outputs": [
    {
     "data": {
      "text/plain": [
       "'01000000010056e463856363f5483963aecb6f8532e08f63e1bd4b83d4716e2ad307a76708000000001976a914a45537f0e9e2e1447996c6a92a1779ddf34f71bc88acffffffff029fbb0d00000000001976a914a45537f0e9e2e1447996c6a92a1779ddf34f71bc88aca0860100000000008d63a628346139313739346361653436313331616465366137653963623139626263363534363661336132308876a928613435353337663065396532653134343739393663366139326131373739646466333466373162636704dad8db5fb17576a928613361373930633632386230356435613231346133633062336263626363393330636132393435636888ac00000000'"
      ]
     },
     "execution_count": 25,
     "metadata": {},
     "output_type": "execute_result"
    }
   ],
   "source": [
    "a_key_btc.sign_transaction(transaction_2.raw_transaction)"
   ]
  },
  {
   "cell_type": "code",
   "execution_count": 26,
   "metadata": {},
   "outputs": [
    {
     "data": {
      "text/plain": [
       "'01000000018b4181776252c170234d842fd36f46e6be9d6eaf36390b28821355208de93c7f000000000100ffffffff0160ae0a00000000001976a914a3a790c628b05d5a214a3c0b3bcbcc930ca2945c88ac0000000001000000'"
      ]
     },
     "execution_count": 26,
     "metadata": {},
     "output_type": "execute_result"
    }
   ],
   "source": [
    "transaction_3 = RefundTransaction(\n",
    "    previous_tx = '7f3ce98d20551382280b3936af6e9dbee6466fd32f844d2370c152627781418b',\n",
    "    previous_output_index = '0',\n",
    "    previous_pkh = '',\n",
    "    secret = secret,\n",
    "    recipient_address = w1['btc'].public_address,\n",
    "    contract = transaction_2.script\n",
    ")\n",
    "\n",
    "transaction_3.transfer_btc(w2['btc'].public_address, 0.007)\n",
    "transaction_3.compute_raw_transaction()\n",
    "transaction_3.raw_transaction"
   ]
  },
  {
   "cell_type": "code",
   "execution_count": 27,
   "metadata": {},
   "outputs": [
    {
     "data": {
      "text/plain": [
       "'01000000018b4181776252c170234d842fd36f46e6be9d6eaf36390b28821355208de93c7f000000000100ffffffff0160ae0a00000000001976a914a3a790c628b05d5a214a3c0b3bcbcc930ca2945c88ac00000000'"
      ]
     },
     "execution_count": 27,
     "metadata": {},
     "output_type": "execute_result"
    }
   ],
   "source": [
    "a_key_btc.sign_transaction(transaction_3.raw_transaction)"
   ]
  },
  {
   "cell_type": "code",
   "execution_count": 28,
   "metadata": {},
   "outputs": [],
   "source": [
    "#TX 16427fa2ab336e2668a6c953dd7e1313aba1781d525526bb78bc90cc236f0692"
   ]
  },
  {
   "cell_type": "code",
   "execution_count": 29,
   "metadata": {},
   "outputs": [],
   "source": [
    "# https://live.blockcypher.com/btc-testnet/tx/243d72c492d75681bb5595262d281e948861bac8d99a6b7a9227d901042da31c/"
   ]
  },
  {
   "cell_type": "markdown",
   "metadata": {},
   "source": [
    "### Example of payment transaction"
   ]
  },
  {
   "cell_type": "code",
   "execution_count": 30,
   "metadata": {},
   "outputs": [
    {
     "data": {
      "text/plain": [
       "'010000000142f7365b04cd716a92705504a6a3b308afd8876de8e91c13de26ee24d0dbf724010000001976a914a45537f0e9e2e1447996c6a92a1779ddf34f71bc88acffffffff0200350c00000000001976a914a45537f0e9e2e1447996c6a92a1779ddf34f71bc88aca0860100000000008d63a628346139313739346361653436313331616465366137653963623139626263363534363661336132308876a928613435353337663065396532653134343739393663366139326131373739646466333466373162636704dcd8db5fb17576a928613361373930633632386230356435613231346133633062336263626363393330636132393435636888ac00000000'"
      ]
     },
     "execution_count": 30,
     "metadata": {},
     "output_type": "execute_result"
    }
   ],
   "source": [
    "transaction_4 = AtomicSwapTransaction(\n",
    "    previous_tx = '24f7dbd024ee26de131ce9e86d87d8af08b3a3a6045570926a71cd045b36f742',\n",
    "    previous_output_index = '1',\n",
    "    previous_pkh = 'a45537f0e9e2e1447996c6a92a1779ddf34f71bc'\n",
    ")\n",
    "\n",
    "transaction_4.build_atomic_swap_contract(\n",
    "    recipient_address=w1['btc'].public_address,\n",
    "    sender_address=w2['btc'].public_address,\n",
    "    secret_hash=str(secret_hash),\n",
    "    number_of_hours=1\n",
    ")\n",
    "\n",
    "transaction_4.transfer_btc(w1['btc'].public_address, 0.008)\n",
    "transaction_4.transfer_atoms(w2['btc'].public_address, 0.001)\n",
    "\n",
    "transaction_4.compute_raw_transaction()\n",
    "a_key_btc.sign_transaction(transaction_4.raw_transaction)"
   ]
  },
  {
   "cell_type": "code",
   "execution_count": 31,
   "metadata": {},
   "outputs": [
    {
     "data": {
      "text/plain": [
       "'01000000010a3584a01518d3c81cf95b0a76e5937f16bb93d67713ccf6e8faf820d802e8da0000000022201336a876ab783d26cb6d959429c6b9fb60e435ca686370c20a4fb81bc46e5a7a51ffffffff0120a10700000000001976a914a3a790c628b05d5a214a3c0b3bcbcc930ca2945c88ac0000000001000000'"
      ]
     },
     "execution_count": 31,
     "metadata": {},
     "output_type": "execute_result"
    }
   ],
   "source": [
    "transaction_5 = PaymentTransaction(\n",
    "    previous_tx = 'dae802d820f8fae8f6cc1377d693bb167f93e5760a5bf91cc8d31815a084350a',\n",
    "    previous_output_index = '0',\n",
    "    previous_pkh = '0',\n",
    "    secret = secret,\n",
    "    recipient_address = w2['btc'].public_address,\n",
    "    contract = transaction_4.script\n",
    ")\n",
    "\n",
    "transaction_5.transfer_btc(w2['btc'].public_address, 0.005)\n",
    "transaction_5.compute_raw_transaction()\n",
    "transaction_5.raw_transaction"
   ]
  },
  {
   "cell_type": "code",
   "execution_count": 32,
   "metadata": {},
   "outputs": [
    {
     "data": {
      "text/plain": [
       "'01000000010a3584a01518d3c81cf95b0a76e5937f16bb93d67713ccf6e8faf820d802e8da0000000022201336a876ab783d26cb6d959429c6b9fb60e435ca686370c20a4fb81bc46e5a7a51ffffffff0120a10700000000001976a914a3a790c628b05d5a214a3c0b3bcbcc930ca2945c88ac00000000'"
      ]
     },
     "execution_count": 32,
     "metadata": {},
     "output_type": "execute_result"
    }
   ],
   "source": [
    "b_key_btc.sign_transaction(transaction_5.raw_transaction)"
   ]
  },
  {
   "cell_type": "code",
   "execution_count": 34,
   "metadata": {},
   "outputs": [],
   "source": [
    " #TXID 7aca94028578c577e974cadebfb09ec518b2c89dbb552fc80373d1e2613bc84e"
   ]
  },
  {
   "cell_type": "code",
   "execution_count": null,
   "metadata": {},
   "outputs": [],
   "source": []
  },
  {
   "cell_type": "code",
   "execution_count": null,
   "metadata": {},
   "outputs": [],
   "source": []
  }
 ],
 "metadata": {
  "kernelspec": {
   "display_name": "Python 3",
   "language": "python",
   "name": "python3"
  },
  "language_info": {
   "codemirror_mode": {
    "name": "ipython",
    "version": 3
   },
   "file_extension": ".py",
   "mimetype": "text/x-python",
   "name": "python",
   "nbconvert_exporter": "python",
   "pygments_lexer": "ipython3",
   "version": "3.7.6"
  },
  "latex_envs": {
   "LaTeX_envs_menu_present": true,
   "autoclose": false,
   "autocomplete": true,
   "bibliofile": "biblio.bib",
   "cite_by": "apalike",
   "current_citInitial": 1,
   "eqLabelWithNumbers": true,
   "eqNumInitial": 1,
   "hotkeys": {
    "equation": "Ctrl-E",
    "itemize": "Ctrl-I"
   },
   "labels_anchors": false,
   "latex_user_defs": false,
   "report_style_numbering": false,
   "user_envs_cfg": false
  },
  "toc": {
   "base_numbering": 1,
   "nav_menu": {},
   "number_sections": true,
   "sideBar": true,
   "skip_h1_title": false,
   "title_cell": "Table of Contents",
   "title_sidebar": "Contents",
   "toc_cell": false,
   "toc_position": {},
   "toc_section_display": true,
   "toc_window_display": false
  }
 },
 "nbformat": 4,
 "nbformat_minor": 2
}
